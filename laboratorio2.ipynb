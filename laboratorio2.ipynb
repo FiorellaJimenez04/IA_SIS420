{
  "nbformat": 4,
  "nbformat_minor": 0,
  "metadata": {
    "colab": {
      "provenance": []
    },
    "kernelspec": {
      "name": "python3",
      "display_name": "Python 3"
    },
    "language_info": {
      "name": "python"
    }
  },
  "cells": [
    {
      "cell_type": "code",
      "execution_count": 17,
      "metadata": {
        "id": "qUxgZvq33-ID"
      },
      "outputs": [],
      "source": [
        "# utilizado para manejos de directorios y rutas\n",
        "import os\n",
        "\n",
        "# Computacion vectorial y cientifica para python\n",
        "import numpy as np\n",
        "\n",
        "# Librerias para graficación (trazado de gráficos)\n",
        "from matplotlib import pyplot\n",
        "from mpl_toolkits.mplot3d import Axes3D  # Necesario para graficar superficies 3D\n",
        "\n",
        "# llama a matplotlib a embeber graficas dentro de los cuadernillos\n",
        "%matplotlib inline"
      ]
    },
    {
      "cell_type": "code",
      "source": [
        "import pandas as pd\n",
        "from sklearn.preprocessing import LabelEncoder\n",
        "from datetime import datetime"
      ],
      "metadata": {
        "id": "3zeLCpwjiQCT"
      },
      "execution_count": 18,
      "outputs": []
    },
    {
      "cell_type": "code",
      "source": [
        "#Carga de dataset\n",
        "data = pd.read_csv('/content/ford.csv')"
      ],
      "metadata": {
        "id": "V0ZXOA-6iUmV"
      },
      "execution_count": 19,
      "outputs": []
    },
    {
      "cell_type": "code",
      "source": [
        "print(data)"
      ],
      "metadata": {
        "colab": {
          "base_uri": "https://localhost:8080/"
        },
        "id": "h325dVhXicrs",
        "outputId": "2eaa273c-b7e8-41b1-9345-c634914c72a8"
      },
      "execution_count": 20,
      "outputs": [
        {
          "output_type": "stream",
          "name": "stdout",
          "text": [
            "         model  year  price transmission  mileage fuelType  tax   mpg  \\\n",
            "0       Fiesta  2017  12000    Automatic    15944   Petrol  150  57.7   \n",
            "1        Focus  2018  14000       Manual     9083   Petrol  150  57.7   \n",
            "2        Focus  2017  13000       Manual    12456   Petrol  150  57.7   \n",
            "3       Fiesta  2019  17500       Manual    10460   Petrol  145  40.3   \n",
            "4       Fiesta  2019  16500    Automatic     1482   Petrol  145  48.7   \n",
            "...        ...   ...    ...          ...      ...      ...  ...   ...   \n",
            "17961    B-MAX  2017   8999       Manual    16700   Petrol  150  47.1   \n",
            "17962    B-MAX  2014   7499       Manual    40700   Petrol   30  57.7   \n",
            "17963    Focus  2015   9999       Manual     7010   Diesel   20  67.3   \n",
            "17964       KA  2018   8299       Manual     5007   Petrol  145  57.7   \n",
            "17965    Focus  2015   8299       Manual     5007   Petrol   22  57.7   \n",
            "\n",
            "       engineSize  \n",
            "0             1.0  \n",
            "1             1.0  \n",
            "2             1.0  \n",
            "3             1.5  \n",
            "4             1.0  \n",
            "...           ...  \n",
            "17961         1.4  \n",
            "17962         1.0  \n",
            "17963         1.6  \n",
            "17964         1.2  \n",
            "17965         1.0  \n",
            "\n",
            "[17966 rows x 9 columns]\n"
          ]
        }
      ]
    },
    {
      "cell_type": "code",
      "source": [
        "data.info()"
      ],
      "metadata": {
        "colab": {
          "base_uri": "https://localhost:8080/"
        },
        "id": "ZoYIJwRyifh-",
        "outputId": "fffecc6c-e43c-4163-884c-a9addab92c39"
      },
      "execution_count": 21,
      "outputs": [
        {
          "output_type": "stream",
          "name": "stdout",
          "text": [
            "<class 'pandas.core.frame.DataFrame'>\n",
            "RangeIndex: 17966 entries, 0 to 17965\n",
            "Data columns (total 9 columns):\n",
            " #   Column        Non-Null Count  Dtype  \n",
            "---  ------        --------------  -----  \n",
            " 0   model         17966 non-null  object \n",
            " 1   year          17966 non-null  int64  \n",
            " 2   price         17966 non-null  int64  \n",
            " 3   transmission  17966 non-null  object \n",
            " 4   mileage       17966 non-null  int64  \n",
            " 5   fuelType      17966 non-null  object \n",
            " 6   tax           17966 non-null  int64  \n",
            " 7   mpg           17966 non-null  float64\n",
            " 8   engineSize    17966 non-null  float64\n",
            "dtypes: float64(2), int64(4), object(3)\n",
            "memory usage: 1.2+ MB\n"
          ]
        }
      ]
    },
    {
      "cell_type": "code",
      "source": [
        "#variables categoricas\n",
        "columnas_categoricas = data.select_dtypes(include=['object']).columns\n"
      ],
      "metadata": {
        "id": "CwnBo9beAUcP"
      },
      "execution_count": 23,
      "outputs": []
    },
    {
      "cell_type": "code",
      "source": [
        "#Procesamiento de frases o palabras\n",
        "for columna in columnas_categoricas:\n",
        "  le = LabelEncoder()\n",
        "  data[columna] = le.fit_transform(data[columna])"
      ],
      "metadata": {
        "id": "EvApuwHjAsrU"
      },
      "execution_count": 25,
      "outputs": []
    },
    {
      "cell_type": "code",
      "source": [
        "data.info()"
      ],
      "metadata": {
        "colab": {
          "base_uri": "https://localhost:8080/"
        },
        "id": "dfVz9NWVAf7X",
        "outputId": "13ac665d-2647-430f-cb33-58cd912f40ba"
      },
      "execution_count": 27,
      "outputs": [
        {
          "output_type": "stream",
          "name": "stdout",
          "text": [
            "<class 'pandas.core.frame.DataFrame'>\n",
            "RangeIndex: 17966 entries, 0 to 17965\n",
            "Data columns (total 9 columns):\n",
            " #   Column        Non-Null Count  Dtype  \n",
            "---  ------        --------------  -----  \n",
            " 0   model         17966 non-null  int64  \n",
            " 1   year          17966 non-null  int64  \n",
            " 2   price         17966 non-null  int64  \n",
            " 3   transmission  17966 non-null  int64  \n",
            " 4   mileage       17966 non-null  int64  \n",
            " 5   fuelType      17966 non-null  int64  \n",
            " 6   tax           17966 non-null  int64  \n",
            " 7   mpg           17966 non-null  float64\n",
            " 8   engineSize    17966 non-null  float64\n",
            "dtypes: float64(2), int64(7)\n",
            "memory usage: 1.2 MB\n"
          ]
        }
      ]
    },
    {
      "cell_type": "code",
      "source": [
        "print(data)"
      ],
      "metadata": {
        "colab": {
          "base_uri": "https://localhost:8080/"
        },
        "id": "wpy684xUA1rj",
        "outputId": "f060e0c0-b653-458d-ebc0-abd7d3d6a056"
      },
      "execution_count": 28,
      "outputs": [
        {
          "output_type": "stream",
          "name": "stdout",
          "text": [
            "       model  year  price  transmission  mileage  fuelType  tax   mpg  \\\n",
            "0          5  2017  12000             0    15944         4  150  57.7   \n",
            "1          6  2018  14000             1     9083         4  150  57.7   \n",
            "2          6  2017  13000             1    12456         4  150  57.7   \n",
            "3          5  2019  17500             1    10460         4  145  40.3   \n",
            "4          5  2019  16500             0     1482         4  145  48.7   \n",
            "...      ...   ...    ...           ...      ...       ...  ...   ...   \n",
            "17961      0  2017   8999             1    16700         4  150  47.1   \n",
            "17962      0  2014   7499             1    40700         4   30  57.7   \n",
            "17963      6  2015   9999             1     7010         0   20  67.3   \n",
            "17964     11  2018   8299             1     5007         4  145  57.7   \n",
            "17965     23  2015   8299             1     5007         4   22  57.7   \n",
            "\n",
            "       engineSize  \n",
            "0             1.0  \n",
            "1             1.0  \n",
            "2             1.0  \n",
            "3             1.5  \n",
            "4             1.0  \n",
            "...           ...  \n",
            "17961         1.4  \n",
            "17962         1.0  \n",
            "17963         1.6  \n",
            "17964         1.2  \n",
            "17965         1.0  \n",
            "\n",
            "[17966 rows x 9 columns]\n"
          ]
        }
      ]
    },
    {
      "cell_type": "code",
      "source": [
        "#obtener la columna que se desea mover\n",
        "columna_a_mover = data.pop('price')\n",
        "\n",
        "#agregar la columna al final del dataset\n",
        "data['price'] = columna_a_mover\n",
        "\n",
        "#generar un nuevo dataset con la columna movida\n",
        "nuevo_dataset = data.copy()\n",
        "\n",
        "#guardar el nuevo dataframe en un archivo csv\n",
        "nuevo_dataset.to_csv('ford2.csv', index=False)\n",
        "\n",
        "print(\"archivo 'ford2.csv' creado\")"
      ],
      "metadata": {
        "colab": {
          "base_uri": "https://localhost:8080/"
        },
        "id": "aCF1gnd39bA0",
        "outputId": "147922d4-7d40-4e77-bc48-f47e25f3d9be"
      },
      "execution_count": 29,
      "outputs": [
        {
          "output_type": "stream",
          "name": "stdout",
          "text": [
            "archivo 'ford2.csv' creado\n"
          ]
        }
      ]
    },
    {
      "cell_type": "code",
      "source": [
        "#Carga de dataset\n",
        "data = pd.read_csv('/content/ford2.csv')"
      ],
      "metadata": {
        "id": "iE8Bw0vm-3k6"
      },
      "execution_count": 30,
      "outputs": []
    },
    {
      "cell_type": "code",
      "source": [
        "print(data)"
      ],
      "metadata": {
        "colab": {
          "base_uri": "https://localhost:8080/"
        },
        "id": "CDcJv73OABpB",
        "outputId": "390b80c8-0652-48de-e6f2-89c63c1e9e0f"
      },
      "execution_count": 31,
      "outputs": [
        {
          "output_type": "stream",
          "name": "stdout",
          "text": [
            "       model  year  transmission  mileage  fuelType  tax   mpg  engineSize  \\\n",
            "0          5  2017             0    15944         4  150  57.7         1.0   \n",
            "1          6  2018             1     9083         4  150  57.7         1.0   \n",
            "2          6  2017             1    12456         4  150  57.7         1.0   \n",
            "3          5  2019             1    10460         4  145  40.3         1.5   \n",
            "4          5  2019             0     1482         4  145  48.7         1.0   \n",
            "...      ...   ...           ...      ...       ...  ...   ...         ...   \n",
            "17961      0  2017             1    16700         4  150  47.1         1.4   \n",
            "17962      0  2014             1    40700         4   30  57.7         1.0   \n",
            "17963      6  2015             1     7010         0   20  67.3         1.6   \n",
            "17964     11  2018             1     5007         4  145  57.7         1.2   \n",
            "17965     23  2015             1     5007         4   22  57.7         1.0   \n",
            "\n",
            "       price  \n",
            "0      12000  \n",
            "1      14000  \n",
            "2      13000  \n",
            "3      17500  \n",
            "4      16500  \n",
            "...      ...  \n",
            "17961   8999  \n",
            "17962   7499  \n",
            "17963   9999  \n",
            "17964   8299  \n",
            "17965   8299  \n",
            "\n",
            "[17966 rows x 9 columns]\n"
          ]
        }
      ]
    },
    {
      "cell_type": "code",
      "source": [
        "data.info()"
      ],
      "metadata": {
        "colab": {
          "base_uri": "https://localhost:8080/"
        },
        "id": "MJR_ngQEAFSz",
        "outputId": "db8b90b3-7116-418b-f2d7-4b8a3868c6e4"
      },
      "execution_count": 32,
      "outputs": [
        {
          "output_type": "stream",
          "name": "stdout",
          "text": [
            "<class 'pandas.core.frame.DataFrame'>\n",
            "RangeIndex: 17966 entries, 0 to 17965\n",
            "Data columns (total 9 columns):\n",
            " #   Column        Non-Null Count  Dtype  \n",
            "---  ------        --------------  -----  \n",
            " 0   model         17966 non-null  int64  \n",
            " 1   year          17966 non-null  int64  \n",
            " 2   transmission  17966 non-null  int64  \n",
            " 3   mileage       17966 non-null  int64  \n",
            " 4   fuelType      17966 non-null  int64  \n",
            " 5   tax           17966 non-null  int64  \n",
            " 6   mpg           17966 non-null  float64\n",
            " 7   engineSize    17966 non-null  float64\n",
            " 8   price         17966 non-null  int64  \n",
            "dtypes: float64(2), int64(7)\n",
            "memory usage: 1.2 MB\n"
          ]
        }
      ]
    },
    {
      "cell_type": "code",
      "source": [
        "# Lectura de Datos\n",
        "X = data.iloc[:, :8]\n",
        "y = data.iloc[:, 8]\n",
        "m = y.size"
      ],
      "metadata": {
        "id": "YuuRUXgCwvZ_"
      },
      "execution_count": 33,
      "outputs": []
    },
    {
      "cell_type": "code",
      "source": [
        "print(X)\n",
        "print('*'*25)\n",
        "print(y)"
      ],
      "metadata": {
        "colab": {
          "base_uri": "https://localhost:8080/"
        },
        "id": "x1NBC6A6xFoC",
        "outputId": "83fa181e-ba73-42ad-f6c3-b6d4134696fb"
      },
      "execution_count": 34,
      "outputs": [
        {
          "output_type": "stream",
          "name": "stdout",
          "text": [
            "       model  year  transmission  mileage  fuelType  tax   mpg  engineSize\n",
            "0          5  2017             0    15944         4  150  57.7         1.0\n",
            "1          6  2018             1     9083         4  150  57.7         1.0\n",
            "2          6  2017             1    12456         4  150  57.7         1.0\n",
            "3          5  2019             1    10460         4  145  40.3         1.5\n",
            "4          5  2019             0     1482         4  145  48.7         1.0\n",
            "...      ...   ...           ...      ...       ...  ...   ...         ...\n",
            "17961      0  2017             1    16700         4  150  47.1         1.4\n",
            "17962      0  2014             1    40700         4   30  57.7         1.0\n",
            "17963      6  2015             1     7010         0   20  67.3         1.6\n",
            "17964     11  2018             1     5007         4  145  57.7         1.2\n",
            "17965     23  2015             1     5007         4   22  57.7         1.0\n",
            "\n",
            "[17966 rows x 8 columns]\n",
            "*************************\n",
            "0        12000\n",
            "1        14000\n",
            "2        13000\n",
            "3        17500\n",
            "4        16500\n",
            "         ...  \n",
            "17961     8999\n",
            "17962     7499\n",
            "17963     9999\n",
            "17964     8299\n",
            "17965     8299\n",
            "Name: price, Length: 17966, dtype: int64\n"
          ]
        }
      ]
    },
    {
      "cell_type": "code",
      "source": [
        "def  featureNormalize(X):\n",
        "    X_norm = X.copy()\n",
        "    mu = np.zeros(X.shape[1])\n",
        "    sigma = np.zeros(X.shape[1])\n",
        "\n",
        "    mu = np.mean(X, axis = 0)\n",
        "    sigma = np.std(X, axis = 0)\n",
        "    X_norm = (X - mu) / sigma\n",
        "\n",
        "    return X_norm, mu, sigma\n",
        "\n",
        "# Normaliza entre -0.5 y 0.5 (revisar) porque se dan valores negativos y postivos"
      ],
      "metadata": {
        "id": "DrrFytt2gkI8"
      },
      "execution_count": 35,
      "outputs": []
    },
    {
      "cell_type": "code",
      "source": [
        "# llama featureNormalize con los datos cargados\n",
        "X_norm, mu, sigma = featureNormalize(X)\n",
        "\n",
        "print(X)\n",
        "print('Media calculada:', mu)\n",
        "print('Desviación estandar calculada:', sigma)\n",
        "print(X_norm)"
      ],
      "metadata": {
        "colab": {
          "base_uri": "https://localhost:8080/"
        },
        "id": "MhHhItqc4YLy",
        "outputId": "6e183347-8191-477b-ff9a-344083638844"
      },
      "execution_count": 36,
      "outputs": [
        {
          "output_type": "stream",
          "name": "stdout",
          "text": [
            "       model  year  transmission  mileage  fuelType  tax   mpg  engineSize\n",
            "0          5  2017             0    15944         4  150  57.7         1.0\n",
            "1          6  2018             1     9083         4  150  57.7         1.0\n",
            "2          6  2017             1    12456         4  150  57.7         1.0\n",
            "3          5  2019             1    10460         4  145  40.3         1.5\n",
            "4          5  2019             0     1482         4  145  48.7         1.0\n",
            "...      ...   ...           ...      ...       ...  ...   ...         ...\n",
            "17961      0  2017             1    16700         4  150  47.1         1.4\n",
            "17962      0  2014             1    40700         4   30  57.7         1.0\n",
            "17963      6  2015             1     7010         0   20  67.3         1.6\n",
            "17964     11  2018             1     5007         4  145  57.7         1.2\n",
            "17965     23  2015             1     5007         4   22  57.7         1.0\n",
            "\n",
            "[17966 rows x 8 columns]\n",
            "Media calculada: model               6.848547\n",
            "year             2016.866470\n",
            "transmission        0.984749\n",
            "mileage         23362.608761\n",
            "fuelType            2.714294\n",
            "tax               113.329456\n",
            "mpg                57.906980\n",
            "engineSize          1.350807\n",
            "dtype: float64\n",
            "Desviación estandar calculada: model               4.012483\n",
            "year                2.050279\n",
            "transmission        0.368815\n",
            "mileage         19471.512428\n",
            "fuelType            1.866651\n",
            "tax                62.010730\n",
            "mpg                10.125414\n",
            "engineSize          0.432355\n",
            "dtype: float64\n",
            "          model      year  transmission   mileage  fuelType       tax  \\\n",
            "0     -0.460699  0.065128     -2.670032 -0.380998  0.688777  0.591358   \n",
            "1     -0.211477  0.552866      0.041351 -0.733359  0.688777  0.591358   \n",
            "2     -0.211477  0.065128      0.041351 -0.560132  0.688777  0.591358   \n",
            "3     -0.460699  1.040605      0.041351 -0.662640  0.688777  0.510727   \n",
            "4     -0.460699  1.040605     -2.670032 -1.123724  0.688777  0.510727   \n",
            "...         ...       ...           ...       ...       ...       ...   \n",
            "17961 -1.706810  0.065128      0.041351 -0.342172  0.688777  0.591358   \n",
            "17962 -1.706810 -1.398088      0.041351  0.890398  0.688777 -1.343791   \n",
            "17963 -0.211477 -0.910349      0.041351 -0.839822 -1.454098 -1.505053   \n",
            "17964  1.034634  0.552866      0.041351 -0.942690  0.688777  0.510727   \n",
            "17965  4.025302 -0.910349      0.041351 -0.942690  0.688777 -1.472801   \n",
            "\n",
            "            mpg  engineSize  \n",
            "0     -0.020442   -0.811386  \n",
            "1     -0.020442   -0.811386  \n",
            "2     -0.020442   -0.811386  \n",
            "3     -1.738890    0.345070  \n",
            "4     -0.909294   -0.811386  \n",
            "...         ...         ...  \n",
            "17961 -1.067312    0.113779  \n",
            "17962 -0.020442   -0.811386  \n",
            "17963  0.927668    0.576362  \n",
            "17964 -0.020442   -0.348804  \n",
            "17965 -0.020442   -0.811386  \n",
            "\n",
            "[17966 rows x 8 columns]\n"
          ]
        }
      ]
    },
    {
      "cell_type": "code",
      "source": [
        "# Añade el termino de interseccion a X\n",
        "# (Columna de unos para X0)\n",
        "X = np.concatenate([np.ones((m, 1)), X_norm], axis=1)"
      ],
      "metadata": {
        "id": "EB4cCmdm4bxJ"
      },
      "execution_count": 37,
      "outputs": []
    },
    {
      "cell_type": "code",
      "source": [
        "print(X)"
      ],
      "metadata": {
        "colab": {
          "base_uri": "https://localhost:8080/"
        },
        "id": "jxdWrQDC4fcD",
        "outputId": "b3784778-0e63-4a49-fc6d-359c41458fca"
      },
      "execution_count": 38,
      "outputs": [
        {
          "output_type": "stream",
          "name": "stdout",
          "text": [
            "[[ 1.         -0.46069913  0.06512772 ...  0.59135805 -0.02044162\n",
            "  -0.81138621]\n",
            " [ 1.         -0.21147687  0.55286624 ...  0.59135805 -0.02044162\n",
            "  -0.81138621]\n",
            " [ 1.         -0.21147687  0.06512772 ...  0.59135805 -0.02044162\n",
            "  -0.81138621]\n",
            " ...\n",
            " [ 1.         -0.21147687 -0.91034931 ... -1.50505332  0.92766777\n",
            "   0.57636151]\n",
            " [ 1.          1.03463446  0.55286624 ...  0.51072684 -0.02044162\n",
            "  -0.34880364]\n",
            " [ 1.          4.02530164 -0.91034931 ... -1.47280084 -0.02044162\n",
            "  -0.81138621]]\n"
          ]
        }
      ]
    },
    {
      "cell_type": "code",
      "source": [
        "print(data)"
      ],
      "metadata": {
        "colab": {
          "base_uri": "https://localhost:8080/"
        },
        "id": "ZrfC74igECuv",
        "outputId": "0dd5a997-51e7-4c44-ebf2-c6a66dcd26f5"
      },
      "execution_count": 42,
      "outputs": [
        {
          "output_type": "stream",
          "name": "stdout",
          "text": [
            "       model  year  transmission  mileage  fuelType  tax   mpg  engineSize  \\\n",
            "0          5  2017             0    15944         4  150  57.7         1.0   \n",
            "1          6  2018             1     9083         4  150  57.7         1.0   \n",
            "2          6  2017             1    12456         4  150  57.7         1.0   \n",
            "3          5  2019             1    10460         4  145  40.3         1.5   \n",
            "4          5  2019             0     1482         4  145  48.7         1.0   \n",
            "...      ...   ...           ...      ...       ...  ...   ...         ...   \n",
            "17961      0  2017             1    16700         4  150  47.1         1.4   \n",
            "17962      0  2014             1    40700         4   30  57.7         1.0   \n",
            "17963      6  2015             1     7010         0   20  67.3         1.6   \n",
            "17964     11  2018             1     5007         4  145  57.7         1.2   \n",
            "17965     23  2015             1     5007         4   22  57.7         1.0   \n",
            "\n",
            "       price  \n",
            "0      12000  \n",
            "1      14000  \n",
            "2      13000  \n",
            "3      17500  \n",
            "4      16500  \n",
            "...      ...  \n",
            "17961   8999  \n",
            "17962   7499  \n",
            "17963   9999  \n",
            "17964   8299  \n",
            "17965   8299  \n",
            "\n",
            "[17966 rows x 9 columns]\n"
          ]
        }
      ]
    },
    {
      "cell_type": "code",
      "source": [
        "def computeCostMulti(X, y, theta):\n",
        "    # Inicializa algunos valores utiles\n",
        "    m = y.shape[0] # numero de ejemplos de entrenamiento\n",
        "\n",
        "    J = 0\n",
        "\n",
        "    h = np.dot(X, theta)\n",
        "\n",
        "    J = (1/(2 * m)) * np.sum(np.square(np.dot(X, theta) - y))\n",
        "\n",
        "    return J\n"
      ],
      "metadata": {
        "id": "is_NER384kX5"
      },
      "execution_count": 39,
      "outputs": []
    },
    {
      "cell_type": "code",
      "source": [
        "def gradientDescentMulti(X, y, theta, alpha, num_iters):\n",
        "\n",
        "    # Inicializa algunos valores\n",
        "    m = y.shape[0] # numero de ejemplos de entrenamiento\n",
        "\n",
        "    # realiza una copia de theta, el cual será acutalizada por el descenso por el gradiente\n",
        "    theta = theta.copy()\n",
        "\n",
        "    J_history = []\n",
        "\n",
        "    for i in range(num_iters):\n",
        "        theta = theta - (alpha / m) * (np.dot(X, theta) - y).dot(X)\n",
        "        J_history.append(computeCostMulti(X, y, theta))\n",
        "\n",
        "    return theta, J_history"
      ],
      "metadata": {
        "id": "NTic99Il4k9H"
      },
      "execution_count": 40,
      "outputs": []
    },
    {
      "cell_type": "code",
      "source": [
        "# Elegir algun valor para alpha (probar varias alternativas)\n",
        "alpha = 0.001 # si es grande se resta más a los thetas, si es menor alfa va cambiando poco a poco\n",
        "#se necesitan muchas iteraciones, si es grande el alfa salta mucho y no llega facilmente\n",
        "# mejores alfas = 0.1, 0.01, 0.001, 0.0001, 0.0005, 0.003\n",
        "num_iters = 4000\n",
        "\n",
        "# inicializa theta y ejecuta el descenso por el gradiente\n",
        "theta = np.zeros(9)\n",
        "theta, J_history = gradientDescentMulti(X, y, theta, alpha, num_iters)\n",
        "\n",
        "# Grafica la convergencia del costo\n",
        "pyplot.plot(np.arange(len(J_history)), J_history, lw=2)\n",
        "pyplot.xlabel('Numero de iteraciones')\n",
        "pyplot.ylabel('Costo J')\n",
        "\n",
        "# Muestra los resultados del descenso por el gradiente\n",
        "print('theta calculado por el descenso por el gradiente: {:s}'.format(str(theta)))\n",
        "\n",
        "# Estimar el precio para un smart watch con distintas caracteristicas\n",
        "X_array = [1, 5, 2016, 1, 10200, 4, 150, 55.2, 1.5]\n",
        "X_array[1:9] = (X_array[1:9] - mu) / sigma\n",
        "price = np.dot(X_array, theta)   # Se debe cambiar esto\n",
        "\n",
        "print('El valor predecido es (usando el descenso por el gradiente): {:.4f}'.format(price))"
      ],
      "metadata": {
        "colab": {
          "base_uri": "https://localhost:8080/",
          "height": 534
        },
        "id": "2sc2AmKF4qJQ",
        "outputId": "1bc12602-4ffd-4db5-e659-2b9992569695"
      },
      "execution_count": 46,
      "outputs": [
        {
          "output_type": "stream",
          "name": "stdout",
          "text": [
            "theta calculado por el descenso por el gradiente: [12055.07698271   257.80915704  2124.79055395   -90.1356246\n",
            " -1388.92669826  -743.343326     268.50880893  -993.7461399\n",
            "  1551.33393567]\n",
            "El valor predecido es (usando el descenso por el gradiente): 12421.3021\n"
          ]
        },
        {
          "output_type": "display_data",
          "data": {
            "text/plain": [
              "<Figure size 640x480 with 1 Axes>"
            ],
            "image/png": "[encoded data removed]"
          },
          "metadata": {}
        }
      ]
    },
    {
      "cell_type": "code",
      "source": [
        "X_array = [1, 5, 2016, 1, 10200, 4, 150, 55.2, 1.5]\n",
        "X_array[1:9] = (X_array[1:9] - mu) / sigma"
      ],
      "metadata": {
        "id": "pHpGapUtf4QP"
      },
      "execution_count": 47,
      "outputs": []
    },
    {
      "cell_type": "code",
      "source": [
        "X_array[1:9]"
      ],
      "metadata": {
        "colab": {
          "base_uri": "https://localhost:8080/"
        },
        "id": "c_fhRmzof56K",
        "outputId": "fb5871be-9abd-4a24-e8a4-7f47b150b2fa"
      },
      "execution_count": 48,
      "outputs": [
        {
          "output_type": "execute_result",
          "data": {
            "text/plain": [
              "[-0.46069913436837157,\n",
              " -0.4226107931310681,\n",
              " 0.04135139351530032,\n",
              " -0.6759931366383876,\n",
              " 0.6887770791005329,\n",
              " 0.5913580465756155,\n",
              " -0.26734510575020365,\n",
              " 0.345070225587309]"
            ]
          },
          "metadata": {},
          "execution_count": 48
        }
      ]
    },
    {
      "cell_type": "code",
      "source": [
        "#Carga de dataset\n",
        "data = pd.read_csv('/content/ford2.csv')"
      ],
      "metadata": {
        "id": "mkyKObWNL6xa"
      },
      "execution_count": 49,
      "outputs": []
    },
    {
      "cell_type": "code",
      "source": [
        "print(data)"
      ],
      "metadata": {
        "colab": {
          "base_uri": "https://localhost:8080/"
        },
        "id": "W3r9mN9FOCf_",
        "outputId": "57f8b27d-a7ff-4d35-a99b-0d217efadb2b"
      },
      "execution_count": 50,
      "outputs": [
        {
          "output_type": "stream",
          "name": "stdout",
          "text": [
            "       model  year  transmission  mileage  fuelType  tax   mpg  engineSize  \\\n",
            "0          5  2017             0    15944         4  150  57.7         1.0   \n",
            "1          6  2018             1     9083         4  150  57.7         1.0   \n",
            "2          6  2017             1    12456         4  150  57.7         1.0   \n",
            "3          5  2019             1    10460         4  145  40.3         1.5   \n",
            "4          5  2019             0     1482         4  145  48.7         1.0   \n",
            "...      ...   ...           ...      ...       ...  ...   ...         ...   \n",
            "17961      0  2017             1    16700         4  150  47.1         1.4   \n",
            "17962      0  2014             1    40700         4   30  57.7         1.0   \n",
            "17963      6  2015             1     7010         0   20  67.3         1.6   \n",
            "17964     11  2018             1     5007         4  145  57.7         1.2   \n",
            "17965     23  2015             1     5007         4   22  57.7         1.0   \n",
            "\n",
            "       price  \n",
            "0      12000  \n",
            "1      14000  \n",
            "2      13000  \n",
            "3      17500  \n",
            "4      16500  \n",
            "...      ...  \n",
            "17961   8999  \n",
            "17962   7499  \n",
            "17963   9999  \n",
            "17964   8299  \n",
            "17965   8299  \n",
            "\n",
            "[17966 rows x 9 columns]\n"
          ]
        }
      ]
    },
    {
      "cell_type": "code",
      "source": [
        "data.info()"
      ],
      "metadata": {
        "colab": {
          "base_uri": "https://localhost:8080/"
        },
        "id": "y7nb124FGAXA",
        "outputId": "e2aeef7e-293a-475c-cfb1-44b07b5a97d0"
      },
      "execution_count": 53,
      "outputs": [
        {
          "output_type": "stream",
          "name": "stdout",
          "text": [
            "<class 'pandas.core.frame.DataFrame'>\n",
            "RangeIndex: 17966 entries, 0 to 17965\n",
            "Data columns (total 9 columns):\n",
            " #   Column        Non-Null Count  Dtype  \n",
            "---  ------        --------------  -----  \n",
            " 0   model         17966 non-null  int64  \n",
            " 1   year          17966 non-null  int64  \n",
            " 2   transmission  17966 non-null  int64  \n",
            " 3   mileage       17966 non-null  int64  \n",
            " 4   fuelType      17966 non-null  int64  \n",
            " 5   tax           17966 non-null  int64  \n",
            " 6   mpg           17966 non-null  float64\n",
            " 7   engineSize    17966 non-null  float64\n",
            " 8   price         17966 non-null  int64  \n",
            "dtypes: float64(2), int64(7)\n",
            "memory usage: 1.2 MB\n"
          ]
        }
      ]
    },
    {
      "cell_type": "code",
      "source": [
        "# Lectura de Datos\n",
        "X = data.iloc[:, :8]\n",
        "y = data.iloc[:, 8]\n",
        "m = y.size"
      ],
      "metadata": {
        "id": "WBXdprvkM71B"
      },
      "execution_count": 54,
      "outputs": []
    },
    {
      "cell_type": "code",
      "source": [
        "print(X)\n",
        "print('*'*25)\n",
        "print(y)"
      ],
      "metadata": {
        "colab": {
          "base_uri": "https://localhost:8080/"
        },
        "id": "6RMQ4dhdNM-P",
        "outputId": "c154538f-0aa9-4c7c-eb56-0803dbf96d57"
      },
      "execution_count": 55,
      "outputs": [
        {
          "output_type": "stream",
          "name": "stdout",
          "text": [
            "       model  year  transmission  mileage  fuelType  tax   mpg  engineSize\n",
            "0          5  2017             0    15944         4  150  57.7         1.0\n",
            "1          6  2018             1     9083         4  150  57.7         1.0\n",
            "2          6  2017             1    12456         4  150  57.7         1.0\n",
            "3          5  2019             1    10460         4  145  40.3         1.5\n",
            "4          5  2019             0     1482         4  145  48.7         1.0\n",
            "...      ...   ...           ...      ...       ...  ...   ...         ...\n",
            "17961      0  2017             1    16700         4  150  47.1         1.4\n",
            "17962      0  2014             1    40700         4   30  57.7         1.0\n",
            "17963      6  2015             1     7010         0   20  67.3         1.6\n",
            "17964     11  2018             1     5007         4  145  57.7         1.2\n",
            "17965     23  2015             1     5007         4   22  57.7         1.0\n",
            "\n",
            "[17966 rows x 8 columns]\n",
            "*************************\n",
            "0        12000\n",
            "1        14000\n",
            "2        13000\n",
            "3        17500\n",
            "4        16500\n",
            "         ...  \n",
            "17961     8999\n",
            "17962     7499\n",
            "17963     9999\n",
            "17964     8299\n",
            "17965     8299\n",
            "Name: price, Length: 17966, dtype: int64\n"
          ]
        }
      ]
    },
    {
      "cell_type": "code",
      "source": [
        "X = np.concatenate([np.ones((m, 1)), X], axis=1)"
      ],
      "metadata": {
        "id": "AfIl12w_PxG_"
      },
      "execution_count": 56,
      "outputs": []
    },
    {
      "cell_type": "code",
      "source": [
        "# importante que para usar m>n, evitar datos redundantes, no se normaliza\n",
        "def normalEqn(X, y):\n",
        "\n",
        "    theta = np.zeros(X.shape[1])\n",
        "\n",
        "    theta = np.dot(np.dot(np.linalg.inv(np.dot(X.T,X)),X.T),y)\n",
        "\n",
        "    return theta"
      ],
      "metadata": {
        "id": "_MMoIdODf9FN"
      },
      "execution_count": 57,
      "outputs": []
    },
    {
      "cell_type": "code",
      "source": [
        "# Calcula los parametros con la ecuación de la normal\n",
        "theta = normalEqn(X, y);\n",
        "\n",
        "# Muestra los resultados optenidos a partir de la aplicación de la ecuación de la normal\n",
        "print('Theta calculado a partir de la ecuación de la normal: {:s}'.format(str(theta)));\n",
        "\n",
        "# Estimar el precio de un automovil ford con determinadas caracteristicas\n",
        "\n",
        "X_array = [1, 5, 2016, 1, 10200, 4, 150, 55.2, 1.5]\n",
        "price = np.dot(X_array, theta)\n",
        "\n",
        "print('El precio de un automovil ford con determinadas caracteristicas (usando la ecuación de la normal): ${:.0f}'.format(price))"
      ],
      "metadata": {
        "colab": {
          "base_uri": "https://localhost:8080/"
        },
        "id": "E7px4OMrf9un",
        "outputId": "6f402f67-631d-4f57-93fc-a5132890e7a1"
      },
      "execution_count": 59,
      "outputs": [
        {
          "output_type": "stream",
          "name": "stdout",
          "text": [
            "Theta calculado a partir de la ecuación de la normal: [-2.34544941e+06  2.96414995e+01  1.17056013e+03 -2.63150095e+02\n",
            " -6.25894863e-02 -3.43983366e+02  1.13024699e+00 -1.09181223e+02\n",
            "  4.08037684e+03]\n",
            "El precio de un automovil ford con determinadas caracteristicas (usando la ecuación de la normal): $12534\n"
          ]
        }
      ]
    }
  ]
}