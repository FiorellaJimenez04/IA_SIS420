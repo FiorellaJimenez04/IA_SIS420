{
  "nbformat": 4,
  "nbformat_minor": 0,
  "metadata": {
    "colab": {
      "provenance": []
    },
    "kernelspec": {
      "name": "python3",
      "display_name": "Python 3"
    },
    "language_info": {
      "name": "python"
    }
  },
  "cells": [
    {
      "cell_type": "code",
      "execution_count": 7,
      "metadata": {
        "id": "qUxgZvq33-ID"
      },
      "outputs": [],
      "source": [
        "# utilizado para manejos de directorios y rutas\n",
        "import os\n",
        "\n",
        "# Computacion vectorial y cientifica para python\n",
        "import numpy as np\n",
        "\n",
        "# Librerias para graficación (trazado de gráficos)\n",
        "from matplotlib import pyplot\n",
        "from mpl_toolkits.mplot3d import Axes3D  # Necesario para graficar superficies 3D\n",
        "\n",
        "# llama a matplotlib a embeber graficas dentro de los cuadernillos\n",
        "%matplotlib inline"
      ]
    },
    {
      "cell_type": "code",
      "source": [
        "import pandas as pd\n",
        "from sklearn.preprocessing import LabelEncoder\n",
        "from datetime import datetime"
      ],
      "metadata": {
        "id": "3zeLCpwjiQCT"
      },
      "execution_count": 8,
      "outputs": []
    },
    {
      "cell_type": "code",
      "source": [
        "#Carga de dataset\n",
        "data = pd.read_csv('/content/wfp_food_prices_ind.csv')"
      ],
      "metadata": {
        "id": "V0ZXOA-6iUmV"
      },
      "execution_count": 9,
      "outputs": []
    },
    {
      "cell_type": "code",
      "source": [
        "print(data)"
      ],
      "metadata": {
        "colab": {
          "base_uri": "https://localhost:8080/"
        },
        "id": "h325dVhXicrs",
        "outputId": "08219e77-34ec-4e9c-e5c6-f81abf9872ff"
      },
      "execution_count": 10,
      "outputs": [
        {
          "output_type": "stream",
          "name": "stdout",
          "text": [
            "              date       admin1          admin2     market   latitude  \\\n",
            "0       15/01/1994        Delhi           Delhi      Delhi  28.666667   \n",
            "1       15/01/1994        Delhi           Delhi      Delhi  28.666667   \n",
            "2       15/01/1994        Delhi           Delhi      Delhi  28.666667   \n",
            "3       15/01/1994        Delhi           Delhi      Delhi  28.666667   \n",
            "4       15/01/1994      Gujarat       Ahmadabad  Ahmedabad  23.033333   \n",
            "...            ...          ...             ...        ...        ...   \n",
            "172012  15/07/2022  West Bengal  West Midnapore  Kharagpur  22.339330   \n",
            "172013  15/07/2022  West Bengal  West Midnapore  Kharagpur  22.339330   \n",
            "172014  15/07/2022  West Bengal  West Midnapore  Kharagpur  22.339330   \n",
            "172015  15/07/2022  West Bengal  West Midnapore  Kharagpur  22.339330   \n",
            "172016  15/07/2022  West Bengal  West Midnapore  Kharagpur  22.339330   \n",
            "\n",
            "        longitude               category        commodity unit priceflag  \\\n",
            "0       77.216667     cereals and tubers             Rice   KG    actual   \n",
            "1       77.216667     cereals and tubers            Wheat   KG    actual   \n",
            "2       77.216667     miscellaneous food            Sugar   KG    actual   \n",
            "3       77.216667           oil and fats    Oil (mustard)   KG    actual   \n",
            "4       72.616667     cereals and tubers             Rice   KG    actual   \n",
            "...           ...                    ...              ...  ...       ...   \n",
            "172012  87.226720        pulses and nuts  Lentils (masur)   KG    actual   \n",
            "172013  87.226720        pulses and nuts  Lentils (moong)   KG    actual   \n",
            "172014  87.226720        pulses and nuts   Lentils (urad)   KG    actual   \n",
            "172015  87.226720  vegetables and fruits           Onions   KG    actual   \n",
            "172016  87.226720  vegetables and fruits         Tomatoes   KG    actual   \n",
            "\n",
            "       pricetype currency   price  usdprice  \n",
            "0         Retail      INR    8.00    0.2545  \n",
            "1         Retail      INR    5.00    0.1590  \n",
            "2         Retail      INR   13.50    0.4294  \n",
            "3         Retail      INR   31.00    0.9860  \n",
            "4         Retail      INR    6.80    0.2163  \n",
            "...          ...      ...     ...       ...  \n",
            "172012    Retail      INR  106.33    1.4177  \n",
            "172013    Retail      INR  119.11    1.5881  \n",
            "172014    Retail      INR   95.89    1.2785  \n",
            "172015    Retail      INR   24.89    0.3319  \n",
            "172016    Retail      INR   53.70    0.7160  \n",
            "\n",
            "[172017 rows x 14 columns]\n"
          ]
        }
      ]
    },
    {
      "cell_type": "code",
      "source": [
        "data.info()"
      ],
      "metadata": {
        "colab": {
          "base_uri": "https://localhost:8080/"
        },
        "id": "ZoYIJwRyifh-",
        "outputId": "2b7f3f74-f724-49db-97cf-5dae8eaac478"
      },
      "execution_count": 11,
      "outputs": [
        {
          "output_type": "stream",
          "name": "stdout",
          "text": [
            "<class 'pandas.core.frame.DataFrame'>\n",
            "RangeIndex: 172017 entries, 0 to 172016\n",
            "Data columns (total 14 columns):\n",
            " #   Column     Non-Null Count   Dtype  \n",
            "---  ------     --------------   -----  \n",
            " 0   date       172017 non-null  object \n",
            " 1   admin1     171228 non-null  object \n",
            " 2   admin2     171228 non-null  object \n",
            " 3   market     172017 non-null  object \n",
            " 4   latitude   171228 non-null  float64\n",
            " 5   longitude  171228 non-null  float64\n",
            " 6   category   172017 non-null  object \n",
            " 7   commodity  172017 non-null  object \n",
            " 8   unit       172017 non-null  object \n",
            " 9   priceflag  172017 non-null  object \n",
            " 10  pricetype  172017 non-null  object \n",
            " 11  currency   172017 non-null  object \n",
            " 12  price      172017 non-null  float64\n",
            " 13  usdprice   172017 non-null  float64\n",
            "dtypes: float64(4), object(10)\n",
            "memory usage: 18.4+ MB\n"
          ]
        }
      ]
    },
    {
      "cell_type": "code",
      "source": [
        "#eliminar columnas\n",
        "columna_eliminar = ['pricetype'] #tambien se eliminaron priceflag, currency por dar valores vacios\n",
        "data.drop(columna_eliminar, axis=1, inplace=True)"
      ],
      "metadata": {
        "id": "HcW3ITuoi4aw"
      },
      "execution_count": 37,
      "outputs": []
    },
    {
      "cell_type": "code",
      "source": [
        "print(data)"
      ],
      "metadata": {
        "colab": {
          "base_uri": "https://localhost:8080/"
        },
        "id": "VpbiDOZmjHzw",
        "outputId": "8d7edd89-07a7-40e6-a11f-31fbcde1f807"
      },
      "execution_count": 38,
      "outputs": [
        {
          "output_type": "stream",
          "name": "stdout",
          "text": [
            "        date  admin1  admin2  market   latitude  longitude  category  \\\n",
            "0          0       6      39      42  28.666667  77.216667         0   \n",
            "1          0       6      39      42  28.666667  77.216667         0   \n",
            "2          0       6      39      42  28.666667  77.216667         2   \n",
            "3          0       6      39      42  28.666667  77.216667         3   \n",
            "4          0       8       2       3  23.033333  72.616667         0   \n",
            "...      ...     ...     ...     ...        ...        ...       ...   \n",
            "172012   202      30     156      81  22.339330  87.226720         4   \n",
            "172013   202      30     156      81  22.339330  87.226720         4   \n",
            "172014   202      30     156      81  22.339330  87.226720         4   \n",
            "172015   202      30     156      81  22.339330  87.226720         5   \n",
            "172016   202      30     156      81  22.339330  87.226720         5   \n",
            "\n",
            "        commodity  unit   price  usdprice  \n",
            "0              15     1    8.00    0.2545  \n",
            "1              21     1    5.00    0.1590  \n",
            "2              17     1   13.50    0.4294  \n",
            "3               9     1   31.00    0.9860  \n",
            "4              15     1    6.80    0.2163  \n",
            "...           ...   ...     ...       ...  \n",
            "172012          3     1  106.33    1.4177  \n",
            "172013          4     1  119.11    1.5881  \n",
            "172014          5     1   95.89    1.2785  \n",
            "172015         13     1   24.89    0.3319  \n",
            "172016         20     1   53.70    0.7160  \n",
            "\n",
            "[172017 rows x 11 columns]\n"
          ]
        }
      ]
    },
    {
      "cell_type": "code",
      "source": [
        "#variables categoricas\n",
        "columnas_categoricas = data.select_dtypes(include=['object']).columns\n",
        "#variables fechas\n",
        "columnas_fechas = data.select_dtypes(include=['datetime64']).columns"
      ],
      "metadata": {
        "id": "sFmWfM7Mjn9Z"
      },
      "execution_count": 39,
      "outputs": []
    },
    {
      "cell_type": "code",
      "source": [
        "#Procesamiento de frases o palabras\n",
        "for columna in columnas_categoricas:\n",
        "  le = LabelEncoder()\n",
        "  data[columna] = le.fit_transform(data[columna])"
      ],
      "metadata": {
        "id": "GcxRaOoqkOyD"
      },
      "execution_count": 40,
      "outputs": []
    },
    {
      "cell_type": "code",
      "source": [
        "#Fechas a numeros\n",
        "for columna in columnas_fechas:\n",
        "  data[columna] = pd.to_numeric(data[columna].map(datetime.timestamp))"
      ],
      "metadata": {
        "id": "hVuep7WXkQvA"
      },
      "execution_count": 41,
      "outputs": []
    },
    {
      "cell_type": "code",
      "source": [
        "#resultado, valores que guian\n",
        "print(data)"
      ],
      "metadata": {
        "colab": {
          "base_uri": "https://localhost:8080/"
        },
        "id": "vHzN_Uj0kS96",
        "outputId": "87deae78-c634-42d6-dcc3-92c96713b15f"
      },
      "execution_count": 42,
      "outputs": [
        {
          "output_type": "stream",
          "name": "stdout",
          "text": [
            "        date  admin1  admin2  market   latitude  longitude  category  \\\n",
            "0          0       6      39      42  28.666667  77.216667         0   \n",
            "1          0       6      39      42  28.666667  77.216667         0   \n",
            "2          0       6      39      42  28.666667  77.216667         2   \n",
            "3          0       6      39      42  28.666667  77.216667         3   \n",
            "4          0       8       2       3  23.033333  72.616667         0   \n",
            "...      ...     ...     ...     ...        ...        ...       ...   \n",
            "172012   202      30     156      81  22.339330  87.226720         4   \n",
            "172013   202      30     156      81  22.339330  87.226720         4   \n",
            "172014   202      30     156      81  22.339330  87.226720         4   \n",
            "172015   202      30     156      81  22.339330  87.226720         5   \n",
            "172016   202      30     156      81  22.339330  87.226720         5   \n",
            "\n",
            "        commodity  unit   price  usdprice  \n",
            "0              15     1    8.00    0.2545  \n",
            "1              21     1    5.00    0.1590  \n",
            "2              17     1   13.50    0.4294  \n",
            "3               9     1   31.00    0.9860  \n",
            "4              15     1    6.80    0.2163  \n",
            "...           ...   ...     ...       ...  \n",
            "172012          3     1  106.33    1.4177  \n",
            "172013          4     1  119.11    1.5881  \n",
            "172014          5     1   95.89    1.2785  \n",
            "172015         13     1   24.89    0.3319  \n",
            "172016         20     1   53.70    0.7160  \n",
            "\n",
            "[172017 rows x 11 columns]\n"
          ]
        }
      ]
    },
    {
      "cell_type": "code",
      "source": [
        "data.info()"
      ],
      "metadata": {
        "colab": {
          "base_uri": "https://localhost:8080/"
        },
        "id": "tJ9GFsACksGy",
        "outputId": "ef6bc39c-9dd7-4eb5-f390-0dd182fb52bd"
      },
      "execution_count": 43,
      "outputs": [
        {
          "output_type": "stream",
          "name": "stdout",
          "text": [
            "<class 'pandas.core.frame.DataFrame'>\n",
            "RangeIndex: 172017 entries, 0 to 172016\n",
            "Data columns (total 11 columns):\n",
            " #   Column     Non-Null Count   Dtype  \n",
            "---  ------     --------------   -----  \n",
            " 0   date       172017 non-null  int64  \n",
            " 1   admin1     172017 non-null  int64  \n",
            " 2   admin2     172017 non-null  int64  \n",
            " 3   market     172017 non-null  int64  \n",
            " 4   latitude   172017 non-null  float64\n",
            " 5   longitude  172017 non-null  float64\n",
            " 6   category   172017 non-null  int64  \n",
            " 7   commodity  172017 non-null  int64  \n",
            " 8   unit       172017 non-null  int64  \n",
            " 9   price      172017 non-null  float64\n",
            " 10  usdprice   172017 non-null  float64\n",
            "dtypes: float64(4), int64(7)\n",
            "memory usage: 14.4 MB\n"
          ]
        }
      ]
    },
    {
      "cell_type": "code",
      "source": [
        "#llenar datos vacios\n",
        "columnas_especificas = ['latitude','longitude' ]\n",
        "media_columnas = data[columnas_especificas].mean()\n",
        "data[columnas_especificas] = data[columnas_especificas].fillna(media_columnas)"
      ],
      "metadata": {
        "id": "aL01HjE1tMNP"
      },
      "execution_count": 44,
      "outputs": []
    },
    {
      "cell_type": "code",
      "source": [
        "data.info()"
      ],
      "metadata": {
        "colab": {
          "base_uri": "https://localhost:8080/"
        },
        "id": "IZheY0q7lvQg",
        "outputId": "726f2b7c-6c18-4a58-9d9e-f9899b88752e"
      },
      "execution_count": 45,
      "outputs": [
        {
          "output_type": "stream",
          "name": "stdout",
          "text": [
            "<class 'pandas.core.frame.DataFrame'>\n",
            "RangeIndex: 172017 entries, 0 to 172016\n",
            "Data columns (total 11 columns):\n",
            " #   Column     Non-Null Count   Dtype  \n",
            "---  ------     --------------   -----  \n",
            " 0   date       172017 non-null  int64  \n",
            " 1   admin1     172017 non-null  int64  \n",
            " 2   admin2     172017 non-null  int64  \n",
            " 3   market     172017 non-null  int64  \n",
            " 4   latitude   172017 non-null  float64\n",
            " 5   longitude  172017 non-null  float64\n",
            " 6   category   172017 non-null  int64  \n",
            " 7   commodity  172017 non-null  int64  \n",
            " 8   unit       172017 non-null  int64  \n",
            " 9   price      172017 non-null  float64\n",
            " 10  usdprice   172017 non-null  float64\n",
            "dtypes: float64(4), int64(7)\n",
            "memory usage: 14.4 MB\n"
          ]
        }
      ]
    },
    {
      "cell_type": "code",
      "source": [
        "# Lectura de Datos\n",
        "X = data.iloc[:, :9]\n",
        "y = data.iloc[:, 9]\n",
        "m = y.size"
      ],
      "metadata": {
        "id": "YuuRUXgCwvZ_"
      },
      "execution_count": 46,
      "outputs": []
    },
    {
      "cell_type": "code",
      "source": [
        "print(X)\n",
        "print('*'*25)\n",
        "print(y)"
      ],
      "metadata": {
        "colab": {
          "base_uri": "https://localhost:8080/"
        },
        "id": "x1NBC6A6xFoC",
        "outputId": "97c338ad-8fc4-4968-ab75-301543ebee48"
      },
      "execution_count": 47,
      "outputs": [
        {
          "output_type": "stream",
          "name": "stdout",
          "text": [
            "        date  admin1  admin2  market   latitude  longitude  category  \\\n",
            "0          0       6      39      42  28.666667  77.216667         0   \n",
            "1          0       6      39      42  28.666667  77.216667         0   \n",
            "2          0       6      39      42  28.666667  77.216667         2   \n",
            "3          0       6      39      42  28.666667  77.216667         3   \n",
            "4          0       8       2       3  23.033333  72.616667         0   \n",
            "...      ...     ...     ...     ...        ...        ...       ...   \n",
            "172012   202      30     156      81  22.339330  87.226720         4   \n",
            "172013   202      30     156      81  22.339330  87.226720         4   \n",
            "172014   202      30     156      81  22.339330  87.226720         4   \n",
            "172015   202      30     156      81  22.339330  87.226720         5   \n",
            "172016   202      30     156      81  22.339330  87.226720         5   \n",
            "\n",
            "        commodity  unit  \n",
            "0              15     1  \n",
            "1              21     1  \n",
            "2              17     1  \n",
            "3               9     1  \n",
            "4              15     1  \n",
            "...           ...   ...  \n",
            "172012          3     1  \n",
            "172013          4     1  \n",
            "172014          5     1  \n",
            "172015         13     1  \n",
            "172016         20     1  \n",
            "\n",
            "[172017 rows x 9 columns]\n",
            "*************************\n",
            "0           8.00\n",
            "1           5.00\n",
            "2          13.50\n",
            "3          31.00\n",
            "4           6.80\n",
            "           ...  \n",
            "172012    106.33\n",
            "172013    119.11\n",
            "172014     95.89\n",
            "172015     24.89\n",
            "172016     53.70\n",
            "Name: price, Length: 172017, dtype: float64\n"
          ]
        }
      ]
    },
    {
      "cell_type": "code",
      "source": [
        "def  featureNormalize(X):\n",
        "    X_norm = X.copy()\n",
        "    mu = np.zeros(X.shape[1])\n",
        "    sigma = np.zeros(X.shape[1])\n",
        "\n",
        "    mu = np.mean(X, axis = 0)\n",
        "    sigma = np.std(X, axis = 0)\n",
        "    X_norm = (X - mu) / sigma\n",
        "\n",
        "    return X_norm, mu, sigma"
      ],
      "metadata": {
        "id": "DrrFytt2gkI8"
      },
      "execution_count": 48,
      "outputs": []
    },
    {
      "cell_type": "code",
      "source": [
        "# llama featureNormalize con los datos cargados\n",
        "X_norm, mu, sigma = featureNormalize(X)\n",
        "\n",
        "print(X)\n",
        "print('Media calculada:', mu)\n",
        "print('Desviación estandar calculada:', sigma)\n",
        "print(X_norm)"
      ],
      "metadata": {
        "colab": {
          "base_uri": "https://localhost:8080/"
        },
        "id": "MhHhItqc4YLy",
        "outputId": "385b12aa-a7a8-4f6d-c02f-1e0c429e100f"
      },
      "execution_count": 49,
      "outputs": [
        {
          "output_type": "stream",
          "name": "stdout",
          "text": [
            "        date  admin1  admin2  market   latitude  longitude  category  \\\n",
            "0          0       6      39      42  28.666667  77.216667         0   \n",
            "1          0       6      39      42  28.666667  77.216667         0   \n",
            "2          0       6      39      42  28.666667  77.216667         2   \n",
            "3          0       6      39      42  28.666667  77.216667         3   \n",
            "4          0       8       2       3  23.033333  72.616667         0   \n",
            "...      ...     ...     ...     ...        ...        ...       ...   \n",
            "172012   202      30     156      81  22.339330  87.226720         4   \n",
            "172013   202      30     156      81  22.339330  87.226720         4   \n",
            "172014   202      30     156      81  22.339330  87.226720         4   \n",
            "172015   202      30     156      81  22.339330  87.226720         5   \n",
            "172016   202      30     156      81  22.339330  87.226720         5   \n",
            "\n",
            "        commodity  unit  \n",
            "0              15     1  \n",
            "1              21     1  \n",
            "2              17     1  \n",
            "3               9     1  \n",
            "4              15     1  \n",
            "...           ...   ...  \n",
            "172012          3     1  \n",
            "172013          4     1  \n",
            "172014          5     1  \n",
            "172015         13     1  \n",
            "172016         20     1  \n",
            "\n",
            "[172017 rows x 9 columns]\n",
            "Media calculada: date         180.452903\n",
            "admin1        16.047832\n",
            "admin2        69.224612\n",
            "market        77.548446\n",
            "latitude      22.422294\n",
            "longitude     80.163114\n",
            "category       2.355750\n",
            "commodity     12.273688\n",
            "unit           1.039351\n",
            "dtype: float64\n",
            "Desviación estandar calculada: date         97.816609\n",
            "admin1        8.723406\n",
            "admin2       44.432985\n",
            "market       45.732717\n",
            "latitude      6.257379\n",
            "longitude     5.657762\n",
            "category      1.639419\n",
            "commodity     6.348511\n",
            "unit          0.253528\n",
            "dtype: float64\n",
            "            date    admin1    admin2    market  latitude  longitude  category  \\\n",
            "0      -1.844808 -1.151824 -0.680229 -0.777309  0.997921  -0.520780 -1.436942   \n",
            "1      -1.844808 -1.151824 -0.680229 -0.777309  0.997921  -0.520780 -1.436942   \n",
            "2      -1.844808 -1.151824 -0.680229 -0.777309  0.997921  -0.520780 -0.216998   \n",
            "3      -1.844808 -1.151824 -0.680229 -0.777309  0.997921  -0.520780  0.392975   \n",
            "4      -1.844808 -0.922556 -1.512944 -1.630090  0.097651  -1.333822 -1.436942   \n",
            "...          ...       ...       ...       ...       ...        ...       ...   \n",
            "172012  0.220281  1.599394  1.952950  0.075472 -0.013259   1.248480  1.002947   \n",
            "172013  0.220281  1.599394  1.952950  0.075472 -0.013259   1.248480  1.002947   \n",
            "172014  0.220281  1.599394  1.952950  0.075472 -0.013259   1.248480  1.002947   \n",
            "172015  0.220281  1.599394  1.952950  0.075472 -0.013259   1.248480  1.612920   \n",
            "172016  0.220281  1.599394  1.952950  0.075472 -0.013259   1.248480  1.612920   \n",
            "\n",
            "        commodity      unit  \n",
            "0        0.429441 -0.155213  \n",
            "1        1.374545 -0.155213  \n",
            "2        0.744476 -0.155213  \n",
            "3       -0.515662 -0.155213  \n",
            "4        0.429441 -0.155213  \n",
            "...           ...       ...  \n",
            "172012  -1.460766 -0.155213  \n",
            "172013  -1.303248 -0.155213  \n",
            "172014  -1.145731 -0.155213  \n",
            "172015   0.114407 -0.155213  \n",
            "172016   1.217027 -0.155213  \n",
            "\n",
            "[172017 rows x 9 columns]\n"
          ]
        }
      ]
    },
    {
      "cell_type": "code",
      "source": [
        "# Añade el termino de interseccion a X\n",
        "# (Columna de unos para X0)\n",
        "X = np.concatenate([np.ones((m, 1)), X_norm], axis=1)"
      ],
      "metadata": {
        "id": "EB4cCmdm4bxJ"
      },
      "execution_count": 50,
      "outputs": []
    },
    {
      "cell_type": "code",
      "source": [
        "print(X)"
      ],
      "metadata": {
        "colab": {
          "base_uri": "https://localhost:8080/"
        },
        "id": "jxdWrQDC4fcD",
        "outputId": "5080f706-98c1-4c62-9ce8-1288b69afd03"
      },
      "execution_count": 51,
      "outputs": [
        {
          "output_type": "stream",
          "name": "stdout",
          "text": [
            "[[ 1.         -1.84480841 -1.15182442 ... -1.43694225  0.42944113\n",
            "  -0.15521273]\n",
            " [ 1.         -1.84480841 -1.15182442 ... -1.43694225  1.37454456\n",
            "  -0.15521273]\n",
            " [ 1.         -1.84480841 -1.15182442 ... -0.2169975   0.74447561\n",
            "  -0.15521273]\n",
            " ...\n",
            " [ 1.          0.22028056  1.59939443 ...  1.00294724 -1.14573126\n",
            "  -0.15521273]\n",
            " [ 1.          0.22028056  1.59939443 ...  1.61291962  0.11440665\n",
            "  -0.15521273]\n",
            " [ 1.          0.22028056  1.59939443 ...  1.61291962  1.21702732\n",
            "  -0.15521273]]\n"
          ]
        }
      ]
    },
    {
      "cell_type": "code",
      "source": [
        "def computeCostMulti(X, y, theta):\n",
        "    # Inicializa algunos valores utiles\n",
        "    m = y.shape[0] # numero de ejemplos de entrenamiento\n",
        "\n",
        "    J = 0\n",
        "\n",
        "    h = np.dot(X, theta)\n",
        "\n",
        "    J = (1/(2 * m)) * np.sum(np.square(np.dot(X, theta) - y))\n",
        "\n",
        "    return J\n"
      ],
      "metadata": {
        "id": "is_NER384kX5"
      },
      "execution_count": 52,
      "outputs": []
    },
    {
      "cell_type": "code",
      "source": [
        "def gradientDescentMulti(X, y, theta, alpha, num_iters):\n",
        "\n",
        "    # Inicializa algunos valores\n",
        "    m = y.shape[0] # numero de ejemplos de entrenamiento\n",
        "\n",
        "    # realiza una copia de theta, el cual será acutalizada por el descenso por el gradiente\n",
        "    theta = theta.copy()\n",
        "\n",
        "    J_history = []\n",
        "\n",
        "    for i in range(num_iters):\n",
        "        theta = theta - (alpha / m) * (np.dot(X, theta) - y).dot(X)\n",
        "        J_history.append(computeCostMulti(X, y, theta))\n",
        "\n",
        "    return theta, J_history"
      ],
      "metadata": {
        "id": "NTic99Il4k9H"
      },
      "execution_count": 53,
      "outputs": []
    },
    {
      "cell_type": "code",
      "source": [
        "# Elegir algun valor para alpha (probar varias alternativas)\n",
        "alpha = 0.001\n",
        "num_iters = 5000\n",
        "\n",
        "# inicializa theta y ejecuta el descenso por el gradiente\n",
        "theta = np.zeros(10)\n",
        "theta, J_history = gradientDescentMulti(X, y, theta, alpha, num_iters)\n",
        "\n",
        "# Grafica la convergencia del costo\n",
        "pyplot.plot(np.arange(len(J_history)), J_history, lw=2)\n",
        "pyplot.xlabel('Numero de iteraciones')\n",
        "pyplot.ylabel('Costo J')\n",
        "\n",
        "# Muestra los resultados del descenso por el gradiente\n",
        "print('theta calculado por el descenso por el gradiente: {:s}'.format(str(theta)))\n",
        "\n",
        "# Estimar el precio para diferentes alimentos de la india conociendo sus caracteristicas por fecha\n",
        "X_array = [1, 1, 10, 42, 51, 30.2, 80.2, 1, 18, 1]\n",
        "X_array[1:10] = (X_array[1:10] - mu) / sigma\n",
        "price = np.dot(X_array, theta)   # Se debe cambiar esto\n",
        "\n",
        "print('El valor predecido es (usando el descenso por el gradiente): {:.4f}'.format(price))"
      ],
      "metadata": {
        "colab": {
          "base_uri": "https://localhost:8080/",
          "height": 501
        },
        "id": "2sc2AmKF4qJQ",
        "outputId": "c799f27e-2160-4879-c2ef-9f3c7b02fa3b"
      },
      "execution_count": 54,
      "outputs": [
        {
          "output_type": "stream",
          "name": "stdout",
          "text": [
            "theta calculado por el descenso por el gradiente: [  93.58380643    0.76939103   -8.29252258    2.23067465   -4.14069439\n",
            "   -4.69491943   -7.97017795  -37.73750779  -37.59719982 -113.03315936]\n",
            "El valor predecido es (usando el descenso por el gradiente): 107.9103\n"
          ]
        },
        {
          "output_type": "display_data",
          "data": {
            "text/plain": [
              "<Figure size 640x480 with 1 Axes>"
            ],
            "image/png": "[encoded data removed]"
          },
          "metadata": {}
        }
      ]
    },
    {
      "cell_type": "code",
      "source": [
        "X_array = [1, 1, 10, 42, 51, 30.2, 80.2, 1, 18, 1]\n",
        "X_array[1:10] = (X_array[1:10] - mu) / sigma"
      ],
      "metadata": {
        "id": "pHpGapUtf4QP"
      },
      "execution_count": 31,
      "outputs": []
    },
    {
      "cell_type": "code",
      "source": [
        "X_array[1:10]"
      ],
      "metadata": {
        "colab": {
          "base_uri": "https://localhost:8080/"
        },
        "id": "c_fhRmzof56K",
        "outputId": "5c87db87-319d-4905-be01-7233887a6cd8"
      },
      "execution_count": 32,
      "outputs": [
        {
          "output_type": "execute_result",
          "data": {
            "text/plain": [
              "[-1.8345851984034187,\n",
              " -0.6932879468631983,\n",
              " -0.612711745672834,\n",
              " -0.5805132012463247,\n",
              " 1.2429654372655772,\n",
              " 0.006519485412921948,\n",
              " -0.8269698761209384,\n",
              " 0.9019928441352111,\n",
              " -0.15521273405273303]"
            ]
          },
          "metadata": {},
          "execution_count": 32
        }
      ]
    },
    {
      "cell_type": "code",
      "source": [
        "def normalEqn(X, y):\n",
        "\n",
        "    theta = np.zeros(X.shape[1])\n",
        "\n",
        "    theta = np.dot(np.dot(np.linalg.inv(np.dot(X.T,X)),X.T),y)\n",
        "\n",
        "    return theta"
      ],
      "metadata": {
        "id": "_MMoIdODf9FN"
      },
      "execution_count": 33,
      "outputs": []
    },
    {
      "cell_type": "code",
      "source": [
        "# Calcula los parametros con la ecuación de la normal\n",
        "theta = normalEqn(X, y);\n",
        "\n",
        "# Muestra los resultados optenidos a partir de la aplicación de la ecuación de la normal\n",
        "print('Theta calculado a partir de la ecuación de la normal: {:s}'.format(str(theta)));\n",
        "\n",
        "# Estimar el precio para diferentes alimentos de la india conociendo sus caracteristicas por fecha\n",
        "\n",
        "X_array = [1, 1, 10, 42, 51, 30.2, 80.2, 1, 18, 1]\n",
        "price = np.dot(X_array, theta)\n",
        "\n",
        "print('Estimar el precio para diferentes alimentos de la india conociendo sus caracteristicas por fecha (usando la ecuación de la normal): ${:.0f}'.format(price))"
      ],
      "metadata": {
        "colab": {
          "base_uri": "https://localhost:8080/"
        },
        "id": "E7px4OMrf9un",
        "outputId": "58ff4cb3-1245-4672-92f9-4797b993dcb1"
      },
      "execution_count": 34,
      "outputs": [
        {
          "output_type": "stream",
          "name": "stdout",
          "text": [
            "Theta calculado a partir de la ecuación de la normal: [0. 0. 0. 0. 0. 0. 0. 0. 0. 0.]\n",
            "Estimar el precio para diferentes alimentos de la india conociendo sus caracteristicas por fecha (usando la ecuación de la normal): $0\n"
          ]
        }
      ]
    }
  ]
}