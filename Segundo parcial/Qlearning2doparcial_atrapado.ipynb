{
  "nbformat": 4,
  "nbformat_minor": 0,
  "metadata": {
    "colab": {
      "provenance": []
    },
    "kernelspec": {
      "name": "python3",
      "display_name": "Python 3"
    },
    "language_info": {
      "name": "python"
    }
  },
  "cells": [
    {
      "cell_type": "code",
      "source": [
        "import numpy as np\n",
        "import matplotlib.pyplot as plt\n",
        "\n",
        "#En un entorno se buscará que el agente rodee a una entidad que está posicionada de manera aleatoria en el mismo.\n",
        "\n",
        "class Environment:\n",
        "    def __init__(self, size):\n",
        "        self.size = size\n",
        "        self.entity_pos = np.random.randint(0, size, 2) #genera una posicion random para la entidad en un entorno de size\n",
        "\n",
        "    def get_state(self, agent_pos):\n",
        "        return np.append(agent_pos, self.entity_pos)\n",
        "        #devuelve un array que contiene la posición del agente y la posición de la entidad, que representa el estado actual del entorno.\n",
        "\n",
        "    def get_reward(self, agent_pos): #recompensa basada en la posicion del agente\n",
        "        return int(np.all(np.abs(agent_pos - self.entity_pos) <= 1))\n",
        "\n",
        "class Agent:\n",
        "    def __init__(self, env):\n",
        "        self.env = env\n",
        "        self.q_table = np.zeros((env.size, env.size, env.size, env.size, 4))\n",
        "\n",
        "    def choose_action(self, state, epsilon):\n",
        "        if np.random.uniform(0, 1) < epsilon:\n",
        "            return np.random.randint(4)\n",
        "        else:\n",
        "            return np.argmax(self.q_table[tuple(state)])\n",
        "\n",
        "    def update_q_table(self, state, action, reward, next_state, alpha, gamma):   #actualiza la tabla q basado en la experiencia adquirida, bellman\n",
        "        old_value = self.q_table[tuple(state.tolist() + [action])]  #Valor Q actual para estado y accion\n",
        "        next_max = np.max(self.q_table[tuple(next_state)]) #valor maximo de Q de la mejor accion que el agente podria tomar en el prox estado\n",
        "        new_value = (1 - alpha) * old_value + alpha * (reward + gamma * next_max) # valor actualizado de Q\n",
        "        self.q_table[tuple(state.tolist() + [action])] = new_value #actualiza el nuevo valor calculado en la tabla q\n",
        "\n",
        "def train_agent(agent, episodes, alpha=0.7, gamma=0.9, epsilon=0.6):\n",
        "    rewards = np.zeros((agent.env.size, agent.env.size))  # Para almacenar las recompensas\n",
        "    for episode in range(episodes):\n",
        "        agent_pos = np.random.randint(0, agent.env.size, 2) #inicializa el agente en una posicion aleatoria\n",
        "        while not agent.env.get_reward(agent_pos):\n",
        "            state = agent.env.get_state(agent_pos)\n",
        "           # print(state)\n",
        "            action = agent.choose_action(state, epsilon)\n",
        "           # print(action)\n",
        "            if action == 0:   # arriba\n",
        "                next_pos = agent_pos + [-1, 0]\n",
        "            elif action == 1: # abajo\n",
        "                next_pos = agent_pos + [1, 0]\n",
        "            elif action == 2: # izquierda\n",
        "                next_pos = agent_pos + [0, -1]\n",
        "            else:             # derecha\n",
        "                next_pos = agent_pos + [0, 1]\n",
        "            next_pos = np.clip(next_pos, 0, agent.env.size - 1) #limita al agente\n",
        "            reward = agent.env.get_reward(next_pos) #recompensa para la nueva posicion del agente\n",
        "            next_state = agent.env.get_state(next_pos) #nuevo estado despues de la accion\n",
        "            agent.update_q_table(state, action, reward, next_state, alpha, gamma) #actualizacion de la qtable con la experiencia adquirida\n",
        "            agent_pos = next_pos #actualiza la posicion del agente\n",
        "            if reward > 0:  # Si el agente recibe una recompensa, marcamos esa posición en la matriz\n",
        "                rewards[tuple(agent_pos)] = 1\n",
        "    return rewards\n",
        "\n",
        "def plot_rewards(rewards, entity_pos):\n",
        "    # Crear una figura y un eje\n",
        "    fig, ax = plt.subplots()\n",
        "\n",
        "    # Dibujar el entorno\n",
        "    ax.imshow(rewards, cmap='gray')\n",
        "\n",
        "    # Dibujar la entidad\n",
        "    ax.plot(entity_pos[1], entity_pos[0], 'ro')\n",
        "\n",
        "    # Mostrar la figura\n",
        "    plt.show()\n",
        "\n",
        "# Crear el entorno y el agente\n",
        "env = Environment(size=7)\n",
        "agent = Agent(env)\n",
        "\n",
        "# Num_episodes\n",
        "#rewards = train_agent(agent, episodes=400)\n",
        "rewards = train_agent(agent, episodes=400)\n",
        "\n",
        "# Graficar las recompensas\n",
        "plot_rewards(rewards, env.entity_pos)\n",
        "\n",
        "# Asignar un valor de 100 a la posición de la entidad en la matriz de recompensas\n",
        "rewards[tuple(env.entity_pos)] = 100\n",
        "\n"
      ],
      "metadata": {
        "colab": {
          "base_uri": "https://localhost:8080/",
          "height": 430
        },
        "id": "GGRmNcHNTILx",
        "outputId": "fb5554de-61d4-4a05-fb19-f8e10f71d548"
      },
      "execution_count": 42,
      "outputs": [
        {
          "output_type": "display_data",
          "data": {
            "text/plain": [
              "<Figure size 640x480 with 1 Axes>"
            ],
            "image/png": "[encoded data removed]"
          },
          "metadata": {}
        }
      ]
    },
    {
      "cell_type": "code",
      "source": [
        "# Ajustar las opciones de impresión de NumPy\n",
        "np.set_printoptions(threshold=np.inf)\n",
        "\n",
        "# Ahora, cuando imprimas la matriz, se mostrará completa\n",
        "print(rewards)"
      ],
      "metadata": {
        "colab": {
          "base_uri": "https://localhost:8080/"
        },
        "id": "VeldVp_ZZL3-",
        "outputId": "d79e36c3-5fb0-4ba4-a36a-479480500010"
      },
      "execution_count": 43,
      "outputs": [
        {
          "output_type": "stream",
          "name": "stdout",
          "text": [
            "[[  0.   0.   0.   0.   0.   0.   0.]\n",
            " [  0.   0.   0.   0.   0.   0.   0.]\n",
            " [  0.   0.   0.   0.   0.   0.   0.]\n",
            " [  0.   0.   0.   0.   0.   0.   0.]\n",
            " [  0.   0.   0.   0.   0.   0.   0.]\n",
            " [  0.   0.   0.   0.   0.   1.   1.]\n",
            " [  0.   0.   0.   0.   0.   1. 100.]]\n"
          ]
        }
      ]
    }
  ]
}