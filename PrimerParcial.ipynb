{
  "nbformat": 4,
  "nbformat_minor": 0,
  "metadata": {
    "colab": {
      "provenance": []
    },
    "kernelspec": {
      "name": "python3",
      "display_name": "Python 3"
    },
    "language_info": {
      "name": "python"
    }
  },
  "cells": [
    {
      "cell_type": "code",
      "execution_count": 221,
      "metadata": {
        "id": "qUxgZvq33-ID"
      },
      "outputs": [],
      "source": [
        "# utilizado para manejos de directorios y rutas\n",
        "import os\n",
        "\n",
        "# Computacion vectorial y cientifica para python\n",
        "import numpy as np\n",
        "\n",
        "# Librerias para graficación (trazado de gráficos)\n",
        "from matplotlib import pyplot\n",
        "from mpl_toolkits.mplot3d import Axes3D  # Necesario para graficar superficies 3D\n",
        "\n",
        "# llama a matplotlib a embeber graficas dentro de los cuadernillos\n",
        "%matplotlib inline"
      ]
    },
    {
      "cell_type": "code",
      "source": [
        "import pandas as pd\n",
        "from sklearn.preprocessing import LabelEncoder\n",
        "from datetime import datetime"
      ],
      "metadata": {
        "id": "3zeLCpwjiQCT"
      },
      "execution_count": 222,
      "outputs": []
    },
    {
      "cell_type": "code",
      "source": [
        "#Carga de dataset\n",
        "data = pd.read_csv('/content/diamonds.csv')"
      ],
      "metadata": {
        "id": "V0ZXOA-6iUmV"
      },
      "execution_count": 223,
      "outputs": []
    },
    {
      "cell_type": "code",
      "source": [
        "print(data)"
      ],
      "metadata": {
        "colab": {
          "base_uri": "https://localhost:8080/"
        },
        "id": "h325dVhXicrs",
        "outputId": "134a4041-6e9c-4068-f95e-252cc6d0deca"
      },
      "execution_count": 224,
      "outputs": [
        {
          "output_type": "stream",
          "name": "stdout",
          "text": [
            "       Unnamed: 0  carat        cut color clarity  depth  table  price     x  \\\n",
            "0               1   0.23      Ideal     E     SI2   61.5   55.0    326  3.95   \n",
            "1               2   0.21    Premium     E     SI1   59.8   61.0    326  3.89   \n",
            "2               3   0.23       Good     E     VS1   56.9   65.0    327  4.05   \n",
            "3               4   0.29    Premium     I     VS2   62.4   58.0    334  4.20   \n",
            "4               5   0.31       Good     J     SI2   63.3   58.0    335  4.34   \n",
            "...           ...    ...        ...   ...     ...    ...    ...    ...   ...   \n",
            "53935       53936   0.72      Ideal     D     SI1   60.8   57.0   2757  5.75   \n",
            "53936       53937   0.72       Good     D     SI1   63.1   55.0   2757  5.69   \n",
            "53937       53938   0.70  Very Good     D     SI1   62.8   60.0   2757  5.66   \n",
            "53938       53939   0.86    Premium     H     SI2   61.0   58.0   2757  6.15   \n",
            "53939       53940   0.75      Ideal     D     SI2   62.2   55.0   2757  5.83   \n",
            "\n",
            "          y     z  \n",
            "0      3.98  2.43  \n",
            "1      3.84  2.31  \n",
            "2      4.07  2.31  \n",
            "3      4.23  2.63  \n",
            "4      4.35  2.75  \n",
            "...     ...   ...  \n",
            "53935  5.76  3.50  \n",
            "53936  5.75  3.61  \n",
            "53937  5.68  3.56  \n",
            "53938  6.12  3.74  \n",
            "53939  5.87  3.64  \n",
            "\n",
            "[53940 rows x 11 columns]\n"
          ]
        }
      ]
    },
    {
      "cell_type": "code",
      "source": [
        "data.info()"
      ],
      "metadata": {
        "colab": {
          "base_uri": "https://localhost:8080/"
        },
        "id": "ZoYIJwRyifh-",
        "outputId": "7a57eba7-8ccb-44bd-d4aa-7c054afe96ca"
      },
      "execution_count": 225,
      "outputs": [
        {
          "output_type": "stream",
          "name": "stdout",
          "text": [
            "<class 'pandas.core.frame.DataFrame'>\n",
            "RangeIndex: 53940 entries, 0 to 53939\n",
            "Data columns (total 11 columns):\n",
            " #   Column      Non-Null Count  Dtype  \n",
            "---  ------      --------------  -----  \n",
            " 0   Unnamed: 0  53940 non-null  int64  \n",
            " 1   carat       53940 non-null  float64\n",
            " 2   cut         53940 non-null  object \n",
            " 3   color       53940 non-null  object \n",
            " 4   clarity     53940 non-null  object \n",
            " 5   depth       53940 non-null  float64\n",
            " 6   table       53940 non-null  float64\n",
            " 7   price       53940 non-null  int64  \n",
            " 8   x           53940 non-null  float64\n",
            " 9   y           53940 non-null  float64\n",
            " 10  z           53940 non-null  float64\n",
            "dtypes: float64(6), int64(2), object(3)\n",
            "memory usage: 4.5+ MB\n"
          ]
        }
      ]
    },
    {
      "cell_type": "code",
      "source": [
        "#variables categoricas\n",
        "columnas_categoricas = data.select_dtypes(include=['object']).columns"
      ],
      "metadata": {
        "id": "KvKxm8AhXzEK"
      },
      "execution_count": 226,
      "outputs": []
    },
    {
      "cell_type": "code",
      "source": [
        "#Procesamiento de frases o palabras\n",
        "for columna in columnas_categoricas:\n",
        "  le = LabelEncoder()\n",
        "  data[columna] = le.fit_transform(data[columna])"
      ],
      "metadata": {
        "id": "EvApuwHjAsrU"
      },
      "execution_count": 227,
      "outputs": []
    },
    {
      "cell_type": "code",
      "source": [
        "data.info()"
      ],
      "metadata": {
        "colab": {
          "base_uri": "https://localhost:8080/"
        },
        "id": "dfVz9NWVAf7X",
        "outputId": "abc90b4e-2cbb-489c-daca-5a136572b868"
      },
      "execution_count": 228,
      "outputs": [
        {
          "output_type": "stream",
          "name": "stdout",
          "text": [
            "<class 'pandas.core.frame.DataFrame'>\n",
            "RangeIndex: 53940 entries, 0 to 53939\n",
            "Data columns (total 11 columns):\n",
            " #   Column      Non-Null Count  Dtype  \n",
            "---  ------      --------------  -----  \n",
            " 0   Unnamed: 0  53940 non-null  int64  \n",
            " 1   carat       53940 non-null  float64\n",
            " 2   cut         53940 non-null  int64  \n",
            " 3   color       53940 non-null  int64  \n",
            " 4   clarity     53940 non-null  int64  \n",
            " 5   depth       53940 non-null  float64\n",
            " 6   table       53940 non-null  float64\n",
            " 7   price       53940 non-null  int64  \n",
            " 8   x           53940 non-null  float64\n",
            " 9   y           53940 non-null  float64\n",
            " 10  z           53940 non-null  float64\n",
            "dtypes: float64(6), int64(5)\n",
            "memory usage: 4.5 MB\n"
          ]
        }
      ]
    },
    {
      "cell_type": "code",
      "source": [
        "#eliminar columnas\n",
        "columna_eliminar = ['Unnamed: 0']\n",
        "data.drop(columna_eliminar, axis=1, inplace=True)"
      ],
      "metadata": {
        "id": "wvtocFynOXWs"
      },
      "execution_count": 229,
      "outputs": []
    },
    {
      "cell_type": "code",
      "source": [
        "data.info()"
      ],
      "metadata": {
        "colab": {
          "base_uri": "https://localhost:8080/"
        },
        "id": "kCTSNjvrOjGM",
        "outputId": "9a3832b2-cc79-4c87-8a04-f0ceb324b29d"
      },
      "execution_count": 230,
      "outputs": [
        {
          "output_type": "stream",
          "name": "stdout",
          "text": [
            "<class 'pandas.core.frame.DataFrame'>\n",
            "RangeIndex: 53940 entries, 0 to 53939\n",
            "Data columns (total 10 columns):\n",
            " #   Column   Non-Null Count  Dtype  \n",
            "---  ------   --------------  -----  \n",
            " 0   carat    53940 non-null  float64\n",
            " 1   cut      53940 non-null  int64  \n",
            " 2   color    53940 non-null  int64  \n",
            " 3   clarity  53940 non-null  int64  \n",
            " 4   depth    53940 non-null  float64\n",
            " 5   table    53940 non-null  float64\n",
            " 6   price    53940 non-null  int64  \n",
            " 7   x        53940 non-null  float64\n",
            " 8   y        53940 non-null  float64\n",
            " 9   z        53940 non-null  float64\n",
            "dtypes: float64(6), int64(4)\n",
            "memory usage: 4.1 MB\n"
          ]
        }
      ]
    },
    {
      "cell_type": "code",
      "source": [
        "#obtener la columna que se desea mover\n",
        "columna_a_mover = data.pop('price')\n",
        "\n",
        "#agregar la columna al final del dataset\n",
        "data['price'] = columna_a_mover\n",
        "\n",
        "#generar un nuevo dataset con la columna movida\n",
        "nuevo_dataset = data.copy()\n",
        "\n",
        "#guardar el nuevo dataframe en un archivo csv\n",
        "nuevo_dataset.to_csv('diamonds2.csv', index=False)\n",
        "\n",
        "print(\"archivo 'diamonds2.csv' creado\")"
      ],
      "metadata": {
        "colab": {
          "base_uri": "https://localhost:8080/"
        },
        "id": "aCF1gnd39bA0",
        "outputId": "a9fbe31c-d1e7-4d90-cbe1-9011ebcb7bf0"
      },
      "execution_count": 231,
      "outputs": [
        {
          "output_type": "stream",
          "name": "stdout",
          "text": [
            "archivo 'diamonds2.csv' creado\n"
          ]
        }
      ]
    },
    {
      "cell_type": "code",
      "source": [
        "#Carga de dataset\n",
        "data = pd.read_csv('/content/diamonds2.csv')"
      ],
      "metadata": {
        "id": "iE8Bw0vm-3k6"
      },
      "execution_count": 232,
      "outputs": []
    },
    {
      "cell_type": "code",
      "source": [
        "print(data)"
      ],
      "metadata": {
        "colab": {
          "base_uri": "https://localhost:8080/"
        },
        "id": "CDcJv73OABpB",
        "outputId": "a5b07ab5-625f-4530-80f9-2f743f364704"
      },
      "execution_count": 233,
      "outputs": [
        {
          "output_type": "stream",
          "name": "stdout",
          "text": [
            "       carat  cut  color  clarity  depth  table     x     y     z  price\n",
            "0       0.23    2      1        3   61.5   55.0  3.95  3.98  2.43    326\n",
            "1       0.21    3      1        2   59.8   61.0  3.89  3.84  2.31    326\n",
            "2       0.23    1      1        4   56.9   65.0  4.05  4.07  2.31    327\n",
            "3       0.29    3      5        5   62.4   58.0  4.20  4.23  2.63    334\n",
            "4       0.31    1      6        3   63.3   58.0  4.34  4.35  2.75    335\n",
            "...      ...  ...    ...      ...    ...    ...   ...   ...   ...    ...\n",
            "53935   0.72    2      0        2   60.8   57.0  5.75  5.76  3.50   2757\n",
            "53936   0.72    1      0        2   63.1   55.0  5.69  5.75  3.61   2757\n",
            "53937   0.70    4      0        2   62.8   60.0  5.66  5.68  3.56   2757\n",
            "53938   0.86    3      4        3   61.0   58.0  6.15  6.12  3.74   2757\n",
            "53939   0.75    2      0        3   62.2   55.0  5.83  5.87  3.64   2757\n",
            "\n",
            "[53940 rows x 10 columns]\n"
          ]
        }
      ]
    },
    {
      "cell_type": "code",
      "source": [
        "# Lectura de Datos\n",
        "X = data.iloc[:, :9]\n",
        "y = data.iloc[:, 9]\n",
        "m = y.size"
      ],
      "metadata": {
        "id": "YuuRUXgCwvZ_"
      },
      "execution_count": 234,
      "outputs": []
    },
    {
      "cell_type": "code",
      "source": [
        "print(X)\n",
        "print('*'*25)\n",
        "print(y)"
      ],
      "metadata": {
        "colab": {
          "base_uri": "https://localhost:8080/"
        },
        "id": "x1NBC6A6xFoC",
        "outputId": "95bee1ca-f35c-41b5-ced8-a6d9966d75ed"
      },
      "execution_count": 235,
      "outputs": [
        {
          "output_type": "stream",
          "name": "stdout",
          "text": [
            "       carat  cut  color  clarity  depth  table     x     y     z\n",
            "0       0.23    2      1        3   61.5   55.0  3.95  3.98  2.43\n",
            "1       0.21    3      1        2   59.8   61.0  3.89  3.84  2.31\n",
            "2       0.23    1      1        4   56.9   65.0  4.05  4.07  2.31\n",
            "3       0.29    3      5        5   62.4   58.0  4.20  4.23  2.63\n",
            "4       0.31    1      6        3   63.3   58.0  4.34  4.35  2.75\n",
            "...      ...  ...    ...      ...    ...    ...   ...   ...   ...\n",
            "53935   0.72    2      0        2   60.8   57.0  5.75  5.76  3.50\n",
            "53936   0.72    1      0        2   63.1   55.0  5.69  5.75  3.61\n",
            "53937   0.70    4      0        2   62.8   60.0  5.66  5.68  3.56\n",
            "53938   0.86    3      4        3   61.0   58.0  6.15  6.12  3.74\n",
            "53939   0.75    2      0        3   62.2   55.0  5.83  5.87  3.64\n",
            "\n",
            "[53940 rows x 9 columns]\n",
            "*************************\n",
            "0         326\n",
            "1         326\n",
            "2         327\n",
            "3         334\n",
            "4         335\n",
            "         ... \n",
            "53935    2757\n",
            "53936    2757\n",
            "53937    2757\n",
            "53938    2757\n",
            "53939    2757\n",
            "Name: price, Length: 53940, dtype: int64\n"
          ]
        }
      ]
    },
    {
      "cell_type": "code",
      "source": [
        "def  featureNormalize(X):\n",
        "    X_norm = X.copy()\n",
        "    mu = np.zeros(X.shape[1])\n",
        "    sigma = np.zeros(X.shape[1])\n",
        "\n",
        "    mu = np.mean(X, axis = 0)\n",
        "    sigma = np.std(X, axis = 0)\n",
        "    X_norm = (X - mu) / sigma\n",
        "\n",
        "    return X_norm, mu, sigma\n",
        "\n",
        "# Normaliza valores entre 0 y 1"
      ],
      "metadata": {
        "id": "DrrFytt2gkI8"
      },
      "execution_count": 236,
      "outputs": []
    },
    {
      "cell_type": "code",
      "source": [
        "# llama featureNormalize con los datos cargados\n",
        "X_norm, mu, sigma = featureNormalize(X)\n",
        "\n",
        "print(X)\n",
        "print('Media calculada:', mu)\n",
        "print('Desviación estandar calculada:', sigma)\n",
        "print(X_norm)"
      ],
      "metadata": {
        "colab": {
          "base_uri": "https://localhost:8080/"
        },
        "id": "MhHhItqc4YLy",
        "outputId": "fa1b68d2-6772-4151-87c9-51d0ac882656"
      },
      "execution_count": 237,
      "outputs": [
        {
          "output_type": "stream",
          "name": "stdout",
          "text": [
            "       carat  cut  color  clarity  depth  table     x     y     z\n",
            "0       0.23    2      1        3   61.5   55.0  3.95  3.98  2.43\n",
            "1       0.21    3      1        2   59.8   61.0  3.89  3.84  2.31\n",
            "2       0.23    1      1        4   56.9   65.0  4.05  4.07  2.31\n",
            "3       0.29    3      5        5   62.4   58.0  4.20  4.23  2.63\n",
            "4       0.31    1      6        3   63.3   58.0  4.34  4.35  2.75\n",
            "...      ...  ...    ...      ...    ...    ...   ...   ...   ...\n",
            "53935   0.72    2      0        2   60.8   57.0  5.75  5.76  3.50\n",
            "53936   0.72    1      0        2   63.1   55.0  5.69  5.75  3.61\n",
            "53937   0.70    4      0        2   62.8   60.0  5.66  5.68  3.56\n",
            "53938   0.86    3      4        3   61.0   58.0  6.15  6.12  3.74\n",
            "53939   0.75    2      0        3   62.2   55.0  5.83  5.87  3.64\n",
            "\n",
            "[53940 rows x 9 columns]\n",
            "Media calculada: carat       0.797940\n",
            "cut         2.553003\n",
            "color       2.594197\n",
            "clarity     3.835150\n",
            "depth      61.749405\n",
            "table      57.457184\n",
            "x           5.731157\n",
            "y           5.734526\n",
            "z           3.538734\n",
            "dtype: float64\n",
            "Desviación estandar calculada: carat      0.474007\n",
            "cut        1.027698\n",
            "color      1.701089\n",
            "clarity    1.724575\n",
            "depth      1.432608\n",
            "table      2.234470\n",
            "x          1.121750\n",
            "y          1.142124\n",
            "z          0.705692\n",
            "dtype: float64\n",
            "          carat       cut     color   clarity     depth     table         x  \\\n",
            "0     -1.198168 -0.538099 -0.937163 -0.484264 -0.174092 -1.099672 -1.587837   \n",
            "1     -1.240361  0.434949 -0.937163 -1.064117 -1.360738  1.585529 -1.641325   \n",
            "2     -1.198168 -1.511147 -0.937163  0.095589 -3.385019  3.375663 -1.498691   \n",
            "3     -1.071587  0.434949  1.414272  0.675442  0.454133  0.242928 -1.364971   \n",
            "4     -1.029394 -1.511147  2.002131 -0.484264  1.082358  0.242928 -1.240167   \n",
            "...         ...       ...       ...       ...       ...       ...       ...   \n",
            "53935 -0.164427 -0.538099 -1.525021 -1.064117 -0.662711 -0.204605  0.016798   \n",
            "53936 -0.164427 -1.511147 -1.525021 -1.064117  0.942753 -1.099672 -0.036690   \n",
            "53937 -0.206621  1.407998 -1.525021 -1.064117  0.733344  1.137995 -0.063434   \n",
            "53938  0.130927  0.434949  0.826413 -0.484264 -0.523105  0.242928  0.373383   \n",
            "53939 -0.101137 -0.538099 -1.525021 -0.484264  0.314528 -1.099672  0.088115   \n",
            "\n",
            "              y         z  \n",
            "0     -1.536196 -1.571129  \n",
            "1     -1.658774 -1.741175  \n",
            "2     -1.457395 -1.741175  \n",
            "3     -1.317305 -1.287720  \n",
            "4     -1.212238 -1.117674  \n",
            "...         ...       ...  \n",
            "53935  0.022304 -0.054888  \n",
            "53936  0.013548  0.100988  \n",
            "53937 -0.047741  0.030135  \n",
            "53938  0.337506  0.285204  \n",
            "53939  0.118616  0.143499  \n",
            "\n",
            "[53940 rows x 9 columns]\n"
          ]
        }
      ]
    },
    {
      "cell_type": "code",
      "source": [
        "# Añade el termino de interseccion a X\n",
        "# (Columna de unos para X0)\n",
        "X = np.concatenate([np.ones((m, 1)), X_norm], axis=1)"
      ],
      "metadata": {
        "id": "EB4cCmdm4bxJ"
      },
      "execution_count": 238,
      "outputs": []
    },
    {
      "cell_type": "code",
      "source": [
        "print(X)"
      ],
      "metadata": {
        "colab": {
          "base_uri": "https://localhost:8080/"
        },
        "id": "jxdWrQDC4fcD",
        "outputId": "6e56a6a4-cfa8-4ba6-a56b-41d9d18ce619"
      },
      "execution_count": 239,
      "outputs": [
        {
          "output_type": "stream",
          "name": "stdout",
          "text": [
            "[[ 1.         -1.19816781 -0.53809897 ... -1.58783745 -1.53619556\n",
            "  -1.57112919]\n",
            " [ 1.         -1.24036129  0.43494935 ... -1.64132529 -1.65877419\n",
            "  -1.74117497]\n",
            " [ 1.         -1.19816781 -1.51114729 ... -1.49869105 -1.45739502\n",
            "  -1.74117497]\n",
            " ...\n",
            " [ 1.         -0.20662095  1.40799767 ... -0.06343409 -0.04774083\n",
            "   0.03013526]\n",
            " [ 1.          0.13092691  0.43494935 ...  0.37338325  0.33750627\n",
            "   0.28520393]\n",
            " [ 1.         -0.10113725 -0.53809897 ...  0.08811478  0.11861587\n",
            "   0.14349912]]\n"
          ]
        }
      ]
    },
    {
      "cell_type": "code",
      "source": [
        "print(data)"
      ],
      "metadata": {
        "colab": {
          "base_uri": "https://localhost:8080/"
        },
        "id": "ZrfC74igECuv",
        "outputId": "abc48591-e5a6-47da-a27f-d6586926c1c2"
      },
      "execution_count": 240,
      "outputs": [
        {
          "output_type": "stream",
          "name": "stdout",
          "text": [
            "       carat  cut  color  clarity  depth  table     x     y     z  price\n",
            "0       0.23    2      1        3   61.5   55.0  3.95  3.98  2.43    326\n",
            "1       0.21    3      1        2   59.8   61.0  3.89  3.84  2.31    326\n",
            "2       0.23    1      1        4   56.9   65.0  4.05  4.07  2.31    327\n",
            "3       0.29    3      5        5   62.4   58.0  4.20  4.23  2.63    334\n",
            "4       0.31    1      6        3   63.3   58.0  4.34  4.35  2.75    335\n",
            "...      ...  ...    ...      ...    ...    ...   ...   ...   ...    ...\n",
            "53935   0.72    2      0        2   60.8   57.0  5.75  5.76  3.50   2757\n",
            "53936   0.72    1      0        2   63.1   55.0  5.69  5.75  3.61   2757\n",
            "53937   0.70    4      0        2   62.8   60.0  5.66  5.68  3.56   2757\n",
            "53938   0.86    3      4        3   61.0   58.0  6.15  6.12  3.74   2757\n",
            "53939   0.75    2      0        3   62.2   55.0  5.83  5.87  3.64   2757\n",
            "\n",
            "[53940 rows x 10 columns]\n"
          ]
        }
      ]
    },
    {
      "cell_type": "code",
      "source": [
        "def computeCostMulti(X, y, theta):\n",
        "    # Inicializa algunos valores utiles\n",
        "    m = y.shape[0] # numero de ejemplos de entrenamiento\n",
        "\n",
        "    J = 0\n",
        "\n",
        "    h = np.dot(X, theta)\n",
        "\n",
        "    J = (1/(2 * m)) * np.sum(np.square(np.dot(X, theta) - y))\n",
        "\n",
        "    return J\n"
      ],
      "metadata": {
        "id": "is_NER384kX5"
      },
      "execution_count": 241,
      "outputs": []
    },
    {
      "cell_type": "code",
      "source": [
        "def gradientDescentMulti(X, y, theta, alpha, num_iters):\n",
        "\n",
        "    # Inicializa algunos valores\n",
        "    m = y.shape[0] # numero de ejemplos de entrenamiento\n",
        "\n",
        "    # realiza una copia de theta, el cual será acutalizada por el descenso por el gradiente\n",
        "    theta = theta.copy()\n",
        "\n",
        "    J_history = []\n",
        "\n",
        "    for i in range(num_iters):\n",
        "        theta = theta - (alpha / m) * (np.dot(X, theta) - y).dot(X)\n",
        "        J_history.append(computeCostMulti(X, y, theta))\n",
        "\n",
        "    return theta, J_history"
      ],
      "metadata": {
        "id": "NTic99Il4k9H"
      },
      "execution_count": 242,
      "outputs": []
    },
    {
      "cell_type": "code",
      "source": [
        "# Elegir algun valor para alpha (probar varias alternativas)\n",
        "alpha = 0.001\n",
        "\n",
        "#se necesitan muchas iteraciones, si es grande el alfa salta mucho y no llega facilmente\n",
        "# mejores alfas = 0.1, 0.01, 0.001, 0.0001, 0.0005, 0.003\n",
        "num_iters = 4000\n",
        "\n",
        "# inicializa theta y ejecuta el descenso por el gradiente\n",
        "theta = np.zeros(10)\n",
        "theta, J_history = gradientDescentMulti(X, y, theta, alpha, num_iters)\n",
        "\n",
        "# Grafica la convergencia del costo\n",
        "pyplot.plot(np.arange(len(J_history)), J_history, lw=2)\n",
        "pyplot.xlabel('Numero de iteraciones')\n",
        "pyplot.ylabel('Costo J')\n",
        "\n",
        "# Muestra los resultados del descenso por el gradiente\n",
        "print('theta calculado por el descenso por el gradiente: {:s}'.format(str(theta)))\n",
        "\n",
        "# Estimar el precio del diamante\n",
        "X_array = [1, 0.25, 2, 1, 3, 65, 55.2, 4.05, 4.12, 3.1 ]\n",
        "X_array[1:10] = (X_array[1:10] - mu) / sigma\n",
        "price = np.dot(X_array, theta)   # Se debe cambiar esto\n",
        "\n",
        "print('El valor predecido es (usando el descenso por el gradiente): {:.4f}'.format(price))"
      ],
      "metadata": {
        "colab": {
          "base_uri": "https://localhost:8080/",
          "height": 517
        },
        "id": "2sc2AmKF4qJQ",
        "outputId": "6d0cde5b-ddba-4b21-8424-79acf1120b87"
      },
      "execution_count": 243,
      "outputs": [
        {
          "output_type": "stream",
          "name": "stdout",
          "text": [
            "theta calculado por el descenso por el gradiente: [3860.91199782 1562.50288371   81.87178024 -336.1898846   513.55719558\n",
            "  -92.49446416 -158.80211343  872.65805077  721.96165145  703.56622413]\n",
            "El valor predecido es (usando el descenso por el gradiente): -738.2772\n"
          ]
        },
        {
          "output_type": "display_data",
          "data": {
            "text/plain": [
              "<Figure size 640x480 with 1 Axes>"
            ],
            "image/png": "[encoded data removed]"
          },
          "metadata": {}
        }
      ]
    },
    {
      "cell_type": "code",
      "source": [
        "#Carga de dataset\n",
        "data = pd.read_csv('/content/diamonds2.csv')"
      ],
      "metadata": {
        "id": "mkyKObWNL6xa"
      },
      "execution_count": 244,
      "outputs": []
    },
    {
      "cell_type": "code",
      "source": [
        "# Lectura de Datos\n",
        "X = data.iloc[:, :9]\n",
        "y = data.iloc[:, 9]\n",
        "m = y.size"
      ],
      "metadata": {
        "id": "WBXdprvkM71B"
      },
      "execution_count": 245,
      "outputs": []
    },
    {
      "cell_type": "code",
      "source": [
        "print(data)"
      ],
      "metadata": {
        "colab": {
          "base_uri": "https://localhost:8080/"
        },
        "id": "W3Ehj-yAZMcA",
        "outputId": "12e05b32-e436-43b1-d923-ff59b980d662"
      },
      "execution_count": 249,
      "outputs": [
        {
          "output_type": "stream",
          "name": "stdout",
          "text": [
            "       carat  cut  color  clarity  depth  table     x     y     z  price\n",
            "0       0.23    2      1        3   61.5   55.0  3.95  3.98  2.43    326\n",
            "1       0.21    3      1        2   59.8   61.0  3.89  3.84  2.31    326\n",
            "2       0.23    1      1        4   56.9   65.0  4.05  4.07  2.31    327\n",
            "3       0.29    3      5        5   62.4   58.0  4.20  4.23  2.63    334\n",
            "4       0.31    1      6        3   63.3   58.0  4.34  4.35  2.75    335\n",
            "...      ...  ...    ...      ...    ...    ...   ...   ...   ...    ...\n",
            "53935   0.72    2      0        2   60.8   57.0  5.75  5.76  3.50   2757\n",
            "53936   0.72    1      0        2   63.1   55.0  5.69  5.75  3.61   2757\n",
            "53937   0.70    4      0        2   62.8   60.0  5.66  5.68  3.56   2757\n",
            "53938   0.86    3      4        3   61.0   58.0  6.15  6.12  3.74   2757\n",
            "53939   0.75    2      0        3   62.2   55.0  5.83  5.87  3.64   2757\n",
            "\n",
            "[53940 rows x 10 columns]\n"
          ]
        }
      ]
    },
    {
      "cell_type": "code",
      "source": [
        "X = np.concatenate([np.ones((m, 1)), X], axis=1)"
      ],
      "metadata": {
        "id": "AfIl12w_PxG_"
      },
      "execution_count": 246,
      "outputs": []
    },
    {
      "cell_type": "code",
      "source": [
        "# importante que para usar m>n, evitar datos redundantes, no se normaliza\n",
        "def normalEqn(X, y):\n",
        "\n",
        "    theta = np.zeros(X.shape[1])\n",
        "\n",
        "    theta = np.dot(np.dot(np.linalg.inv(np.dot(X.T,X)),X.T),y)\n",
        "\n",
        "    return theta"
      ],
      "metadata": {
        "id": "_MMoIdODf9FN"
      },
      "execution_count": 247,
      "outputs": []
    },
    {
      "cell_type": "code",
      "source": [
        "# Calcula los parametros con la ecuación de la normal\n",
        "theta = normalEqn(X, y);\n",
        "\n",
        "# Muestra los resultados optenidos a partir de la aplicación de la ecuación de la normal\n",
        "print('Theta calculado a partir de la ecuación de la normal: {:s}'.format(str(theta)));\n",
        "\n",
        "# Estimar el precio de un automovil ford con determinadas caracteristicas\n",
        "\n",
        "X_array = [1, 0.25, 2, 1, 3, 65, 55.2, 4.05, 4.12, 3.1 ]\n",
        "price = np.dot(X_array, theta)\n",
        "\n",
        "print('El precio del diamante (usando la ecuación de la normal): ${:.0f}'.format(price))"
      ],
      "metadata": {
        "colab": {
          "base_uri": "https://localhost:8080/"
        },
        "id": "E7px4OMrf9un",
        "outputId": "cc089f3f-c395-40b5-cfc7-f9a5d4a2e369"
      },
      "execution_count": 252,
      "outputs": [
        {
          "output_type": "stream",
          "name": "stdout",
          "text": [
            "Theta calculado a partir de la ecuación de la normal: [ 1.59950343e+04  1.09782751e+04  7.06912674e+01 -2.66452390e+02\n",
            "  2.87846761e+02 -1.54298291e+02 -9.33161936e+01 -1.18492548e+03\n",
            "  4.72687710e+01 -1.68806048e+00]\n",
            "El precio del diamante (usando la ecuación de la normal): $-312\n"
          ]
        }
      ]
    }
  ]
}