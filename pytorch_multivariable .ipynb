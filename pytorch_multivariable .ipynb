{
  "nbformat": 4,
  "nbformat_minor": 0,
  "metadata": {
    "colab": {
      "provenance": [],
      "gpuType": "T4"
    },
    "kernelspec": {
      "name": "python3",
      "display_name": "Python 3"
    },
    "language_info": {
      "name": "python"
    },
    "accelerator": "GPU"
  },
  "cells": [
    {
      "cell_type": "code",
      "execution_count": 1,
      "metadata": {
        "id": "6890EbfJ1ZhA"
      },
      "outputs": [],
      "source": [
        "import torch\n",
        "import torch.nn as nn\n",
        "import torch.optim as optim\n",
        "import pandas as pd\n",
        "from sklearn.model_selection import train_test_split\n",
        "from sklearn.preprocessing import StandardScaler\n",
        "from sklearn.metrics import mean_squared_error\n",
        "from datetime import datetime\n",
        "from sklearn.preprocessing import LabelEncoder"
      ]
    },
    {
      "cell_type": "code",
      "source": [
        "data = pd.read_csv('/content/diamonds2.csv')\n",
        "\n"
      ],
      "metadata": {
        "id": "jG9BDxKJ3n4i"
      },
      "execution_count": 2,
      "outputs": []
    },
    {
      "cell_type": "code",
      "source": [
        "data.info()"
      ],
      "metadata": {
        "colab": {
          "base_uri": "https://localhost:8080/"
        },
        "id": "496tHGuWV1ZQ",
        "outputId": "98a6efae-1550-4d20-ceb3-c7235cbf8acf"
      },
      "execution_count": 3,
      "outputs": [
        {
          "output_type": "stream",
          "name": "stdout",
          "text": [
            "<class 'pandas.core.frame.DataFrame'>\n",
            "RangeIndex: 53940 entries, 0 to 53939\n",
            "Data columns (total 10 columns):\n",
            " #   Column   Non-Null Count  Dtype  \n",
            "---  ------   --------------  -----  \n",
            " 0   carat    53940 non-null  float64\n",
            " 1   cut      53940 non-null  int64  \n",
            " 2   color    53940 non-null  int64  \n",
            " 3   clarity  53940 non-null  int64  \n",
            " 4   depth    53940 non-null  float64\n",
            " 5   table    53940 non-null  float64\n",
            " 6   x        53940 non-null  float64\n",
            " 7   y        53940 non-null  float64\n",
            " 8   z        53940 non-null  float64\n",
            " 9   price    53940 non-null  int64  \n",
            "dtypes: float64(6), int64(4)\n",
            "memory usage: 4.1 MB\n"
          ]
        }
      ]
    },
    {
      "cell_type": "code",
      "source": [
        "\n",
        "# Definir las dimensiones de entrada (D_in), capa oculta (H) y dimensiones de salida (D_out)\n",
        "D_in, H, D_out = 9, 150, 1  # D_out es 1 para regresión"
      ],
      "metadata": {
        "id": "rwCCg3pAV42B"
      },
      "execution_count": 4,
      "outputs": []
    },
    {
      "cell_type": "code",
      "source": [
        "# Crear el modelo de regresión\n",
        "model = torch.nn.Sequential(\n",
        "    torch.nn.Linear(D_in, H),\n",
        "    torch.nn.ReLU(),\n",
        "    torch.nn.Linear(H, D_out),\n",
        ")\n"
      ],
      "metadata": {
        "id": "508I_mc1N8xU"
      },
      "execution_count": 5,
      "outputs": []
    },
    {
      "cell_type": "code",
      "source": [
        "# Convertir el modelo a CUDA si estás utilizando GPU\n",
        "model.to(\"cuda\")\n"
      ],
      "metadata": {
        "colab": {
          "base_uri": "https://localhost:8080/"
        },
        "id": "yIbGYc92OJ_1",
        "outputId": "3d0a8bf5-6530-4c0c-cfba-f4f365aa13e8"
      },
      "execution_count": 6,
      "outputs": [
        {
          "output_type": "execute_result",
          "data": {
            "text/plain": [
              "Sequential(\n",
              "  (0): Linear(in_features=9, out_features=150, bias=True)\n",
              "  (1): ReLU()\n",
              "  (2): Linear(in_features=150, out_features=1, bias=True)\n",
              ")"
            ]
          },
          "metadata": {},
          "execution_count": 6
        }
      ]
    },
    {
      "cell_type": "code",
      "source": [
        "data.info()"
      ],
      "metadata": {
        "colab": {
          "base_uri": "https://localhost:8080/"
        },
        "id": "zHxYHFuLPVZM",
        "outputId": "d50e5909-51c1-46c5-b075-8e8fa13cb89c"
      },
      "execution_count": 7,
      "outputs": [
        {
          "output_type": "stream",
          "name": "stdout",
          "text": [
            "<class 'pandas.core.frame.DataFrame'>\n",
            "RangeIndex: 53940 entries, 0 to 53939\n",
            "Data columns (total 10 columns):\n",
            " #   Column   Non-Null Count  Dtype  \n",
            "---  ------   --------------  -----  \n",
            " 0   carat    53940 non-null  float64\n",
            " 1   cut      53940 non-null  int64  \n",
            " 2   color    53940 non-null  int64  \n",
            " 3   clarity  53940 non-null  int64  \n",
            " 4   depth    53940 non-null  float64\n",
            " 5   table    53940 non-null  float64\n",
            " 6   x        53940 non-null  float64\n",
            " 7   y        53940 non-null  float64\n",
            " 8   z        53940 non-null  float64\n",
            " 9   price    53940 non-null  int64  \n",
            "dtypes: float64(6), int64(4)\n",
            "memory usage: 4.1 MB\n"
          ]
        }
      ]
    },
    {
      "cell_type": "code",
      "source": [
        "# Separar características (X) y etiquetas (y)\n",
        "X = data.iloc[:, :9].values\n",
        "y = data.iloc[:, 9].values"
      ],
      "metadata": {
        "id": "m9tEptpJPX2D"
      },
      "execution_count": 8,
      "outputs": []
    },
    {
      "cell_type": "code",
      "source": [
        "# Dividir los datos en conjuntos de entrenamiento y prueba\n",
        "X_train, X_test, y_train, y_test = train_test_split(X, y, test_size=0.2, random_state=42)\n"
      ],
      "metadata": {
        "id": "aKltfpJ_PcKE"
      },
      "execution_count": 9,
      "outputs": []
    },
    {
      "cell_type": "code",
      "source": [
        "# Normalizar los datos\n",
        "scaler = StandardScaler()\n",
        "X_train = scaler.fit_transform(X_train)\n",
        "X_test = scaler.transform(X_test)\n"
      ],
      "metadata": {
        "id": "0z5IsN8rPfW0"
      },
      "execution_count": 10,
      "outputs": []
    },
    {
      "cell_type": "code",
      "source": [
        "# Convertir datos a tensores de PyTorch y copiar en GPU\n",
        "X_train_tensor = torch.FloatTensor(X_train).cuda()\n",
        "y_train_tensor = torch.FloatTensor(y_train).view(-1, 1).cuda()\n",
        "X_test_tensor = torch.FloatTensor(X_test).cuda()\n",
        "y_test_tensor = torch.FloatTensor(y_test).view(-1, 1).cuda()"
      ],
      "metadata": {
        "id": "N0_qWcOYPhpM"
      },
      "execution_count": 11,
      "outputs": []
    },
    {
      "cell_type": "code",
      "source": [
        "# Definir la función de pérdida (MSE) y el optimizador (Adam)\n",
        "criterion = nn.MSELoss()                                      #Mean Squared Error\n",
        "optimizer = optim.Adam(model.parameters(), lr=0.001)\n"
      ],
      "metadata": {
        "id": "6RTauM7cPkck"
      },
      "execution_count": 12,
      "outputs": []
    },
    {
      "cell_type": "code",
      "source": [
        "# Bucle de entrenamiento\n",
        "num_epochs = 5000\n",
        "log_each = 100\n",
        "train_losses = []\n",
        "\n",
        "for epoch in range(num_epochs):\n",
        "    optimizer.zero_grad()\n",
        "    outputs = model(X_train_tensor)\n",
        "    loss = criterion(outputs, y_train_tensor)   #La función de pérdida mide cuán diferente son las predicciones del modelo de los valores reales de entrenamiento\n",
        "    loss.backward()\n",
        "    optimizer.step()\n",
        "    train_losses.append(loss.item())\n",
        "\n",
        "    if (epoch + 1) % log_each == 0:\n",
        "        print(f'Epoch [{epoch+1}/{num_epochs}], Loss: {loss.item():.4f}')\n"
      ],
      "metadata": {
        "colab": {
          "base_uri": "https://localhost:8080/"
        },
        "id": "mvJFp2lCPoFU",
        "outputId": "3ea33606-2883-45c3-96d0-e425dfcd8229"
      },
      "execution_count": 14,
      "outputs": [
        {
          "output_type": "stream",
          "name": "stdout",
          "text": [
            "Epoch [100/5000], Loss: 2489226.0000\n",
            "Epoch [200/5000], Loss: 2374830.7500\n",
            "Epoch [300/5000], Loss: 2279233.0000\n",
            "Epoch [400/5000], Loss: 2198854.7500\n",
            "Epoch [500/5000], Loss: 2130879.5000\n",
            "Epoch [600/5000], Loss: 2072997.8750\n",
            "Epoch [700/5000], Loss: 2023424.5000\n",
            "Epoch [800/5000], Loss: 1980749.3750\n",
            "Epoch [900/5000], Loss: 1943856.2500\n",
            "Epoch [1000/5000], Loss: 1911798.2500\n",
            "Epoch [1100/5000], Loss: 1883824.0000\n",
            "Epoch [1200/5000], Loss: 1859289.7500\n",
            "Epoch [1300/5000], Loss: 1837660.1250\n",
            "Epoch [1400/5000], Loss: 1818481.6250\n",
            "Epoch [1500/5000], Loss: 1801356.7500\n",
            "Epoch [1600/5000], Loss: 1785958.6250\n",
            "Epoch [1700/5000], Loss: 1771985.5000\n",
            "Epoch [1800/5000], Loss: 1759185.1250\n",
            "Epoch [1900/5000], Loss: 1747350.7500\n",
            "Epoch [2000/5000], Loss: 1736269.3750\n",
            "Epoch [2100/5000], Loss: 1725793.5000\n",
            "Epoch [2200/5000], Loss: 1715799.2500\n",
            "Epoch [2300/5000], Loss: 1706173.8750\n",
            "Epoch [2400/5000], Loss: 1696832.2500\n",
            "Epoch [2500/5000], Loss: 1687688.0000\n",
            "Epoch [2600/5000], Loss: 1678695.0000\n",
            "Epoch [2700/5000], Loss: 1669828.7500\n",
            "Epoch [2800/5000], Loss: 1661038.7500\n",
            "Epoch [2900/5000], Loss: 1652332.5000\n",
            "Epoch [3000/5000], Loss: 1643716.1250\n",
            "Epoch [3100/5000], Loss: 1635191.1250\n",
            "Epoch [3200/5000], Loss: 1626750.2500\n",
            "Epoch [3300/5000], Loss: 1618387.1250\n",
            "Epoch [3400/5000], Loss: 1610124.6250\n",
            "Epoch [3500/5000], Loss: 1601962.3750\n",
            "Epoch [3600/5000], Loss: 1593901.7500\n",
            "Epoch [3700/5000], Loss: 1585950.8750\n",
            "Epoch [3800/5000], Loss: 1578135.0000\n",
            "Epoch [3900/5000], Loss: 1570432.0000\n",
            "Epoch [4000/5000], Loss: 1562833.6250\n",
            "Epoch [4100/5000], Loss: 1555338.7500\n",
            "Epoch [4200/5000], Loss: 1547933.7500\n",
            "Epoch [4300/5000], Loss: 1540624.6250\n",
            "Epoch [4400/5000], Loss: 1533407.3750\n",
            "Epoch [4500/5000], Loss: 1526264.1250\n",
            "Epoch [4600/5000], Loss: 1519207.3750\n",
            "Epoch [4700/5000], Loss: 1512228.2500\n",
            "Epoch [4800/5000], Loss: 1505337.6250\n",
            "Epoch [4900/5000], Loss: 1498510.8750\n",
            "Epoch [5000/5000], Loss: 1491760.1250\n"
          ]
        }
      ]
    },
    {
      "cell_type": "code",
      "source": [
        "# Evaluar el modelo en el conjunto de prueba\n",
        "model.eval()\n",
        "with torch.no_grad():\n",
        "    predictions = model(X_test_tensor)\n",
        "    test_loss = criterion(predictions, y_test_tensor)\n",
        "    print(f'Loss en el conjunto de prueba: {test_loss.item():.4f}')"
      ],
      "metadata": {
        "colab": {
          "base_uri": "https://localhost:8080/"
        },
        "id": "83wHrc-5PuLp",
        "outputId": "ff70120b-e8a6-48e4-a655-d6010563a8ce"
      },
      "execution_count": 17,
      "outputs": [
        {
          "output_type": "stream",
          "name": "stdout",
          "text": [
            "Loss en el conjunto de prueba: 1353593.3750\n"
          ]
        }
      ]
    },
    {
      "cell_type": "code",
      "source": [
        "\n",
        "# Calcular el Error Cuadrático Medio en el conjunto de prueba\n",
        "mse = mean_squared_error(y_test, predictions.cpu().numpy())\n",
        "print(f'Error Cuadrático Medio en el conjunto de prueba: {mse:.4f}')"
      ],
      "metadata": {
        "colab": {
          "base_uri": "https://localhost:8080/"
        },
        "id": "niEIkxjoPwS6",
        "outputId": "e6d7a6bc-0998-4546-bb96-f7bcec9c17ce"
      },
      "execution_count": 16,
      "outputs": [
        {
          "output_type": "stream",
          "name": "stdout",
          "text": [
            "Error Cuadrático Medio en el conjunto de prueba: 1353593.3232\n"
          ]
        }
      ]
    }
  ]
}