{
  "nbformat": 4,
  "nbformat_minor": 0,
  "metadata": {
    "colab": {
      "provenance": []
    },
    "kernelspec": {
      "name": "python3",
      "display_name": "Python 3"
    },
    "language_info": {
      "name": "python"
    }
  },
  "cells": [
    {
      "cell_type": "code",
      "execution_count": 45,
      "metadata": {
        "id": "97Y5J8OwmCDL"
      },
      "outputs": [],
      "source": [
        "# utilizado para la manipulación de directorios y rutas\n",
        "import os\n",
        "import pandas as pd\n",
        "# Cálculo científico y vectorial para python\n",
        "import numpy as np\n",
        "\n",
        "# Libreria para graficos\n",
        "from matplotlib import pyplot\n",
        "\n",
        "# Modulo de optimizacion en scipy\n",
        "from scipy import optimize\n",
        "\n",
        "# le dice a matplotlib que incruste gráficos en el cuaderno\n",
        "%matplotlib inline"
      ]
    },
    {
      "cell_type": "code",
      "source": [
        "def csvAdapted(dataset, dropColumns):  #indice de columnas que aliminare\n",
        "    data = pd.read_csv(dataset, encoding='latin-1')  #evita problemas con caracteres especiales\n",
        "\n",
        "    data = data.drop(data.columns[dropColumns], axis=1)\n",
        "    data = data.dropna() #elimina filas con valores nulos\n",
        "\n",
        "    print(data.head())  # para imprimir el dataset\n",
        "\n",
        "    return data.to_numpy()\n",
        "\n",
        "data = csvAdapted(\"/content/train.csv\", [1025])  # elimina la columna 1025"
      ],
      "metadata": {
        "colab": {
          "base_uri": "https://localhost:8080/"
        },
        "id": "_-cwakHxsVGY",
        "outputId": "9f9ddf03-ca26-43b1-cef6-912f9efd2f2b"
      },
      "execution_count": 46,
      "outputs": [
        {
          "output_type": "stream",
          "name": "stdout",
          "text": [
            "   label  pixel1  pixel2  pixel3  pixel4  pixel5  pixel6  pixel7  pixel8  \\\n",
            "0      3     212       1      77     204     137     117     139     161   \n",
            "1      0       0      19       3     233     127       0      70       1   \n",
            "2      1       0     181     232       0       0     141     133     255   \n",
            "3      5     130     109     153     224      84      51     235     254   \n",
            "4      1      81     141     255     232       0     198     247     221   \n",
            "\n",
            "   pixel9  ...  pixel1015  pixel1016  pixel1017  pixel1018  pixel1019  \\\n",
            "0     199  ...          0          0          0          0          0   \n",
            "1     233  ...        225        104         28        233        150   \n",
            "2     221  ...         58        116        223        203        183   \n",
            "3      64  ...         31        183        113        255        113   \n",
            "4       0  ...         34         61         69         36         48   \n",
            "\n",
            "   pixel1020  pixel1021  pixel1022  pixel1023  pixel1024  \n",
            "0          0          0          0          0          0  \n",
            "1        115        173        126         27         64  \n",
            "2         56         59         62         50         51  \n",
            "3         31        183        113        255        113  \n",
            "4        133         61        147        178         60  \n",
            "\n",
            "[5 rows x 1025 columns]\n"
          ]
        }
      ]
    },
    {
      "cell_type": "code",
      "source": [
        "X = data[:, 1:]\n",
        "y = data[:, 0]\n",
        "m = y.size\n",
        "print(y)"
      ],
      "metadata": {
        "colab": {
          "base_uri": "https://localhost:8080/"
        },
        "id": "dwf2O9ZpmFpI",
        "outputId": "282e77b0-7ce0-401d-872a-97c9697364e0"
      },
      "execution_count": 47,
      "outputs": [
        {
          "output_type": "stream",
          "name": "stdout",
          "text": [
            "[3 0 1 ... 6 2 6]\n"
          ]
        }
      ]
    },
    {
      "cell_type": "code",
      "source": [
        "# data.shape\n",
        "X.shape[1]"
      ],
      "metadata": {
        "colab": {
          "base_uri": "https://localhost:8080/"
        },
        "id": "g3tNPTY4mG7I",
        "outputId": "456d8566-ab66-4293-d96e-38262ec717f3"
      },
      "execution_count": 48,
      "outputs": [
        {
          "output_type": "execute_result",
          "data": {
            "text/plain": [
              "1024"
            ]
          },
          "metadata": {},
          "execution_count": 48
        }
      ]
    },
    {
      "cell_type": "code",
      "source": [
        "input_layer_size  = 1024\n",
        "num_labels = 10\n",
        "m = y.size"
      ],
      "metadata": {
        "id": "IlTfpVSVmIRZ"
      },
      "execution_count": 49,
      "outputs": []
    },
    {
      "cell_type": "code",
      "source": [
        "def calcularSigmoide(z):  #probabilidad de que z pertenezca a la clase positiva\n",
        "    # Calcula la sigmoide de z.\n",
        "\n",
        "    return 1.0 / (1.0 + np.exp(-z))"
      ],
      "metadata": {
        "id": "hj-M_cy2mNOQ"
      },
      "execution_count": 59,
      "outputs": []
    },
    {
      "cell_type": "code",
      "source": [
        "def calcularCosto(theta, X, y, lambda_): #calcula el error del entrenamiento\n",
        "    # Inicializa algunos valores utiles\n",
        "    m = y.size #num ejemplos de entrenamiento\n",
        "\n",
        "    # convierte las etiquetas a valores enteros si son boleanos\n",
        "    if y.dtype == bool:\n",
        "        y = y.astype(int)\n",
        "\n",
        "    J = 0 #costo y gradiente\n",
        "    grad = np.zeros(theta.shape)\n",
        "\n",
        "    h = calcularSigmoide(X.dot(theta.T))\n",
        "#crea una copia de theta\n",
        "    temp = theta\n",
        "    temp[0] = 0 #excluye el termino de sesgo de la regularizacion\n",
        "#funcion de costo de regresion logistica sin regularizar, termino de regularizacion\n",
        "#m num de ejemplos, y etiquetas, h predicciones, lambda es el parametro de regularizacion\n",
        "#temp copia de los parametros del modelo theta\n",
        "    J = (1 / m) * np.sum(-y.dot(np.log(h)) - (1 - y).dot(np.log(1 - h))) + (lambda_ / (2 * m)) * np.sum(np.square(temp))\n",
        "#croosentropy\n",
        "    grad = (1 / m) * (h - y).dot(X)\n",
        "    # Se aplica regularizacion en la siguiente linea\n",
        "    grad = grad + (lambda_ / m) * temp\n",
        "\n",
        "    return J, grad\n",
        "\n",
        "    #costo"
      ],
      "metadata": {
        "id": "P7ohcilimOhQ"
      },
      "execution_count": 60,
      "outputs": []
    },
    {
      "cell_type": "code",
      "source": [
        "# valores de prueba para los parámetros theta\n",
        "theta_t = np.array([-2, -1, 1, 2], dtype=float)\n",
        "\n",
        "# valores de prueba para las entradas\n",
        "X_t = np.concatenate((np.ones((5, 1)), np.arange(1, 16).reshape(5, 3, order='F')/10.0), axis=1)\n",
        "print(X_t)\n",
        "# valores de testeo para las etiquetas\n",
        "y_t = np.array([1, 0, 1, 0, 1])\n",
        "\n",
        "# valores de testeo para el parametro de regularizacion\n",
        "lambda_t = 3"
      ],
      "metadata": {
        "colab": {
          "base_uri": "https://localhost:8080/"
        },
        "id": "hpgWtgLpmQZR",
        "outputId": "5338fe77-973a-4a6b-d545-bdaba746a994"
      },
      "execution_count": 61,
      "outputs": [
        {
          "output_type": "stream",
          "name": "stdout",
          "text": [
            "[[1.  0.1 0.6 1.1]\n",
            " [1.  0.2 0.7 1.2]\n",
            " [1.  0.3 0.8 1.3]\n",
            " [1.  0.4 0.9 1.4]\n",
            " [1.  0.5 1.  1.5]]\n"
          ]
        }
      ]
    },
    {
      "cell_type": "code",
      "source": [
        "J, grad = calcularCosto(theta_t, X_t, y_t, lambda_t)\n",
        "\n",
        "print('Costo         : {:.6f}'.format(J))\n",
        "print('Costo esperadot: 2.534819')\n",
        "print('-----------------------')\n",
        "print('Gradientes:')\n",
        "print(' [{:.6f}, {:.6f}, {:.6f}, {:.6f}]'.format(*grad))\n",
        "print('Gradientes esperados:')\n",
        "print(' [0.146561, -0.548558, 0.724722, 1.398003]');"
      ],
      "metadata": {
        "colab": {
          "base_uri": "https://localhost:8080/"
        },
        "id": "OU7pLZ6AmR_R",
        "outputId": "cc69d485-1190-4d32-c875-1b00a35e142a"
      },
      "execution_count": 53,
      "outputs": [
        {
          "output_type": "stream",
          "name": "stdout",
          "text": [
            "Costo         : 2.534819\n",
            "Costo esperadot: 2.534819\n",
            "-----------------------\n",
            "Gradientes:\n",
            " [0.146561, -0.548558, 0.724722, 1.398003]\n",
            "Gradientes esperados:\n",
            " [0.146561, -0.548558, 0.724722, 1.398003]\n"
          ]
        }
      ]
    },
    {
      "cell_type": "code",
      "source": [
        "def oneVsAll(X, y, num_labels, lambda_): #funcion para entrenar el modelo\n",
        "\n",
        "    m, n = X.shape  #m ejemplos de entrenamiento, n caracteristicas x\n",
        "\n",
        "    all_theta = np.zeros((num_labels, n + 1))\n",
        "\n",
        "    # Agrega unos a la matriz X\n",
        "    X = np.concatenate([np.ones((m, 1)), X], axis=1)\n",
        "\n",
        "\n",
        "    for c in np.arange(num_labels):\n",
        "        initial_theta = np.zeros(n + 1) #se inician los parametros del modelo theta con 0\n",
        "        options = {'maxiter': 50}               #num de iteraciones\n",
        "        res = optimize.minimize(calcularCosto,   #encontrar parametros queminimizen fc\n",
        "                                initial_theta,\n",
        "                                (X, (y == (c + 1)), lambda_),\n",
        "                                jac=True, #devuelve costo y gradiente\n",
        "                                method='BFGS', #descenso por el gradiente conjugado\n",
        "                                options=options)\n",
        "\n",
        "        all_theta[c] = res.x  #parametros del modelo optmizados para cada calsificador y clase\n",
        "\n",
        "    return all_theta"
      ],
      "metadata": {
        "id": "Jmtx5NY6mVrB"
      },
      "execution_count": 62,
      "outputs": []
    },
    {
      "cell_type": "code",
      "source": [
        "lambda_ = 0.001\n",
        "all_theta = oneVsAll(X, y, num_labels, lambda_)"
      ],
      "metadata": {
        "colab": {
          "base_uri": "https://localhost:8080/"
        },
        "id": "Xf6Oafr0mXUg",
        "outputId": "58919116-7956-4474-e231-3ae39b2ca11b"
      },
      "execution_count": 63,
      "outputs": [
        {
          "output_type": "stream",
          "name": "stderr",
          "text": [
            "<ipython-input-59-4ee9b05c53d4>:4: RuntimeWarning: overflow encountered in exp\n",
            "  return 1.0 / (1.0 + np.exp(-z))\n",
            "<ipython-input-60-d2b1bfbf3a96>:19: RuntimeWarning: divide by zero encountered in log\n",
            "  J = (1 / m) * np.sum(-y.dot(np.log(h)) - (1 - y).dot(np.log(1 - h))) + (lambda_ / (2 * m)) * np.sum(np.square(temp))\n",
            "<ipython-input-60-d2b1bfbf3a96>:19: RuntimeWarning: divide by zero encountered in log\n",
            "  J = (1 / m) * np.sum(-y.dot(np.log(h)) - (1 - y).dot(np.log(1 - h))) + (lambda_ / (2 * m)) * np.sum(np.square(temp))\n",
            "<ipython-input-59-4ee9b05c53d4>:4: RuntimeWarning: overflow encountered in exp\n",
            "  return 1.0 / (1.0 + np.exp(-z))\n",
            "<ipython-input-60-d2b1bfbf3a96>:19: RuntimeWarning: divide by zero encountered in log\n",
            "  J = (1 / m) * np.sum(-y.dot(np.log(h)) - (1 - y).dot(np.log(1 - h))) + (lambda_ / (2 * m)) * np.sum(np.square(temp))\n",
            "<ipython-input-59-4ee9b05c53d4>:4: RuntimeWarning: overflow encountered in exp\n",
            "  return 1.0 / (1.0 + np.exp(-z))\n",
            "<ipython-input-60-d2b1bfbf3a96>:19: RuntimeWarning: divide by zero encountered in log\n",
            "  J = (1 / m) * np.sum(-y.dot(np.log(h)) - (1 - y).dot(np.log(1 - h))) + (lambda_ / (2 * m)) * np.sum(np.square(temp))\n"
          ]
        }
      ]
    },
    {
      "cell_type": "code",
      "source": [
        "print(all_theta)"
      ],
      "metadata": {
        "colab": {
          "base_uri": "https://localhost:8080/"
        },
        "id": "IXj-wNGUmZAK",
        "outputId": "c2041821-1a18-4371-d328-3297fb9ce566"
      },
      "execution_count": 24,
      "outputs": [
        {
          "output_type": "stream",
          "name": "stdout",
          "text": [
            "[[-1.01788258e-02 -5.53464871e-05  1.52488856e-04 ... -5.60748737e-04\n",
            "  -7.57902428e-04 -3.05169132e-04]\n",
            " [ 9.85567273e-02  3.09148107e-03  1.86509524e-03 ...  4.54699117e-03\n",
            "   2.81910764e-03  1.54033866e-03]\n",
            " [-4.33622795e-03 -2.87497123e-03  9.44465819e-04 ... -5.93444193e-03\n",
            "  -2.76094970e-03 -1.62747530e-03]\n",
            " ...\n",
            " [-1.44220446e-02 -9.40870696e-03 -2.78061834e-03 ... -2.79993017e-03\n",
            "   1.91730141e-03 -3.81847913e-03]\n",
            " [-4.80485436e-05 -1.33954535e-03 -1.51112819e-03 ... -2.65390485e-05\n",
            "  -1.61966291e-03 -2.13044945e-03]\n",
            " [-2.98402638e-04 -2.67247164e-02 -2.96871061e-02 ... -2.63948232e-02\n",
            "  -2.81775235e-02 -2.68040468e-02]]\n"
          ]
        }
      ]
    },
    {
      "cell_type": "code",
      "source": [
        "def predictOneVsAll(all_theta, X):\n",
        "    m = X.shape[0];\n",
        "    num_labels = all_theta.shape[0]\n",
        "\n",
        "    p = np.zeros(m)\n",
        "\n",
        "    # Add ones to the X data matrix\n",
        "    X = np.concatenate([np.ones((m, 1)), X], axis=1)\n",
        "    p = np.argmax(calcularSigmoide(X.dot(all_theta.T)), axis = 1) #devuelve el valor max a lo largo de un eje que corresponde a las columnas\n",
        "\n",
        "    return p + 1\n"
      ],
      "metadata": {
        "id": "c76ldIzKmbTK"
      },
      "execution_count": 38,
      "outputs": []
    },
    {
      "cell_type": "code",
      "source": [
        "pred = predictOneVsAll(all_theta, X)\n",
        "print('Precision del conjuto de entrenamiento: {:.2f}%'.format(np.mean(pred == y) * 100))\n",
        "\n",
        "# Cargar datos test\n",
        "data_test = csvAdapted(\"/content/test.csv\", [1025])\n",
        "\n",
        "# Separar datos y etiquetas\n",
        "X_test = data_test[:, 1:]\n",
        "y_test = data_test[:, 0]\n",
        "\n",
        "# Realiza predicciones en tus datos de prueba\n",
        "pred_test = predictOneVsAll(all_theta, X_test)\n",
        "\n",
        "# Calcula la precisión en tus datos de prueba\n",
        "print('Precisión del conjunto de prueba: {:.2f}%'.format(np.mean(pred_test == y_test) * 100))"
      ],
      "metadata": {
        "colab": {
          "base_uri": "https://localhost:8080/"
        },
        "id": "uGQoYD5exuLh",
        "outputId": "d7b09201-ba03-46b0-eed6-e6367cc27e58"
      },
      "execution_count": 44,
      "outputs": [
        {
          "output_type": "stream",
          "name": "stderr",
          "text": [
            "<ipython-input-18-b4b3dba6631b>:4: RuntimeWarning: overflow encountered in exp\n",
            "  return 1.0 / (1.0 + np.exp(-z))\n"
          ]
        },
        {
          "output_type": "stream",
          "name": "stdout",
          "text": [
            "Precision del conjuto de entrenamiento: 79.64%\n",
            "   label  pixel1  pixel2  pixel3  pixel4  pixel5  pixel6  pixel7  pixel8  \\\n",
            "0      2       0     199      51      23       0       0     227     255   \n",
            "1      6       0       0       4      24      56      93     220     101   \n",
            "2      9     116     139     255     244     252     137     139     139   \n",
            "3      1      64     195       0      80       0     200     139      51   \n",
            "4      7     255       4       0      73       3      15       0      48   \n",
            "\n",
            "   pixel9  ...  pixel1015  pixel1016  pixel1017  pixel1018  pixel1019  \\\n",
            "0     127  ...          0          0          0          0          0   \n",
            "1      80  ...         97         72        142        247          1   \n",
            "2     255  ...        155        108         73          3        105   \n",
            "3      84  ...        184         64        158          0         52   \n",
            "4      15  ...         10          9          0         10         11   \n",
            "\n",
            "   pixel1020  pixel1021  pixel1022  pixel1023  pixel1024  \n",
            "0          0          0          0          0          0  \n",
            "1        247         27        121        109         75  \n",
            "2         85        183        102        171          7  \n",
            "3         55         38         65        174        245  \n",
            "4        186          0         10         13        128  \n",
            "\n",
            "[5 rows x 1025 columns]\n",
            "Precisión del conjunto de prueba: 77.88%\n"
          ]
        },
        {
          "output_type": "stream",
          "name": "stderr",
          "text": [
            "<ipython-input-18-b4b3dba6631b>:4: RuntimeWarning: overflow encountered in exp\n",
            "  return 1.0 / (1.0 + np.exp(-z))\n"
          ]
        }
      ]
    },
    {
      "cell_type": "code",
      "source": [
        "# Selecciona un ejemplo aleatorio del conjunto de prueba\n",
        "index = np.random.choice(X_test.shape[0])\n",
        "img = X_test[index]\n",
        "\n",
        "# Realiza una predicción para este ejemplo\n",
        "pred = predictOneVsAll(all_theta, img.reshape(1, -1))\n",
        "\n",
        "# Obtiene la etiqueta verdadera para este ejemplo\n",
        "true_label = y_test[index]\n",
        "\n",
        "# Imprime la etiqueta verdadera y la etiqueta predicha\n",
        "print('Etiqueta verdadera:', true_label)\n",
        "print('Etiqueta predicha:', pred)\n",
        "\n",
        "# Visualiza la imagen\n",
        "img = img.reshape((32, 32))  # 32x32 píxeles\n",
        "pyplot.imshow(img, cmap='Greys')\n",
        "pyplot.show()\n"
      ],
      "metadata": {
        "colab": {
          "base_uri": "https://localhost:8080/",
          "height": 503
        },
        "id": "65Mn2Knw1CxH",
        "outputId": "252e3c05-7caf-4b76-a3b0-b202a5e04803"
      },
      "execution_count": 41,
      "outputs": [
        {
          "output_type": "stream",
          "name": "stderr",
          "text": [
            "<ipython-input-18-b4b3dba6631b>:4: RuntimeWarning: overflow encountered in exp\n",
            "  return 1.0 / (1.0 + np.exp(-z))\n"
          ]
        },
        {
          "output_type": "stream",
          "name": "stdout",
          "text": [
            "Etiqueta verdadera: 7\n",
            "Etiqueta predicha: [7]\n"
          ]
        },
        {
          "output_type": "display_data",
          "data": {
            "text/plain": [
              "<Figure size 640x480 with 1 Axes>"
            ],
            "image/png": "[encoded data removed]"
          },
          "metadata": {}
        }
      ]
    }
  ]
}